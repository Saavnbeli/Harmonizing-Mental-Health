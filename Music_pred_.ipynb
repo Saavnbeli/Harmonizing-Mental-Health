{
 "cells": [
  {
   "cell_type": "markdown",
   "metadata": {
    "id": "DrwRIeLGg3tT"
   },
   "source": [
    "### Harmonizing Mental Health: Predictive Music Genre Classification and Personalized Song Recommendations"
   ]
  },
  {
   "cell_type": "markdown",
   "metadata": {
    "id": "heY62BaYg3F7"
   },
   "source": [
    "**Importing necessary libraries**"
   ]
  },
  {
   "cell_type": "code",
   "execution_count": null,
   "metadata": {
    "id": "cgtKPuvMg1bP"
   },
   "outputs": [],
   "source": [
    "import pandas as pd\n",
    "import numpy as np\n",
    "import seaborn as sns\n",
    "import matplotlib.pyplot as plt\n",
    "from sklearn.preprocessing import LabelEncoder\n",
    "from sklearn.preprocessing import OrdinalEncoder\n",
    "from sklearn.tree import DecisionTreeClassifier\n",
    "from sklearn.model_selection import train_test_split\n",
    "from sklearn.metrics import accuracy_score\n",
    "from sklearn.decomposition import PCA"
   ]
  },
  {
   "cell_type": "markdown",
   "metadata": {
    "id": "tmbO7qrfh-OI"
   },
   "source": [
    "**Loading datasets**"
   ]
  },
  {
   "cell_type": "code",
   "execution_count": null,
   "metadata": {
    "colab": {
     "base_uri": "https://localhost:8080/",
     "height": 206
    },
    "executionInfo": {
     "elapsed": 696,
     "status": "ok",
     "timestamp": 1683229387579,
     "user": {
      "displayName": "Madhura Pandit",
      "userId": "01285043605966323273"
     },
     "user_tz": 420
    },
    "id": "OmhK5CP6g1es",
    "outputId": "ca64ed2e-3bb8-4bd7-a248-2b55aa4a13d1"
   },
   "outputs": [
    {
     "data": {
      "text/html": [
       "\n",
       "  <div id=\"df-f4ef4d17-7195-4acf-9701-901b9267145e\">\n",
       "    <div class=\"colab-df-container\">\n",
       "      <div>\n",
       "<style scoped>\n",
       "    .dataframe tbody tr th:only-of-type {\n",
       "        vertical-align: middle;\n",
       "    }\n",
       "\n",
       "    .dataframe tbody tr th {\n",
       "        vertical-align: top;\n",
       "    }\n",
       "\n",
       "    .dataframe thead th {\n",
       "        text-align: right;\n",
       "    }\n",
       "</style>\n",
       "<table border=\"1\" class=\"dataframe\">\n",
       "  <thead>\n",
       "    <tr style=\"text-align: right;\">\n",
       "      <th></th>\n",
       "      <th>Song</th>\n",
       "      <th>Artist</th>\n",
       "      <th>Genre</th>\n",
       "    </tr>\n",
       "  </thead>\n",
       "  <tbody>\n",
       "    <tr>\n",
       "      <th>0</th>\n",
       "      <td>Symphony No. 5</td>\n",
       "      <td>Ludwig van Beethoven</td>\n",
       "      <td>Classical</td>\n",
       "    </tr>\n",
       "    <tr>\n",
       "      <th>1</th>\n",
       "      <td>Eine Kleine Nachtmusik</td>\n",
       "      <td>Mozart</td>\n",
       "      <td>Classical</td>\n",
       "    </tr>\n",
       "    <tr>\n",
       "      <th>2</th>\n",
       "      <td>Canon in D</td>\n",
       "      <td>Pachelbel</td>\n",
       "      <td>Classical</td>\n",
       "    </tr>\n",
       "    <tr>\n",
       "      <th>3</th>\n",
       "      <td>Moonlight Sonata</td>\n",
       "      <td>Ludwig van Beethoven</td>\n",
       "      <td>Classical</td>\n",
       "    </tr>\n",
       "    <tr>\n",
       "      <th>4</th>\n",
       "      <td>Ode to Joy</td>\n",
       "      <td>Beethoven</td>\n",
       "      <td>Classical</td>\n",
       "    </tr>\n",
       "  </tbody>\n",
       "</table>\n",
       "</div>\n",
       "      <button class=\"colab-df-convert\" onclick=\"convertToInteractive('df-f4ef4d17-7195-4acf-9701-901b9267145e')\"\n",
       "              title=\"Convert this dataframe to an interactive table.\"\n",
       "              style=\"display:none;\">\n",
       "        \n",
       "  <svg xmlns=\"http://www.w3.org/2000/svg\" height=\"24px\"viewBox=\"0 0 24 24\"\n",
       "       width=\"24px\">\n",
       "    <path d=\"M0 0h24v24H0V0z\" fill=\"none\"/>\n",
       "    <path d=\"M18.56 5.44l.94 2.06.94-2.06 2.06-.94-2.06-.94-.94-2.06-.94 2.06-2.06.94zm-11 1L8.5 8.5l.94-2.06 2.06-.94-2.06-.94L8.5 2.5l-.94 2.06-2.06.94zm10 10l.94 2.06.94-2.06 2.06-.94-2.06-.94-.94-2.06-.94 2.06-2.06.94z\"/><path d=\"M17.41 7.96l-1.37-1.37c-.4-.4-.92-.59-1.43-.59-.52 0-1.04.2-1.43.59L10.3 9.45l-7.72 7.72c-.78.78-.78 2.05 0 2.83L4 21.41c.39.39.9.59 1.41.59.51 0 1.02-.2 1.41-.59l7.78-7.78 2.81-2.81c.8-.78.8-2.07 0-2.86zM5.41 20L4 18.59l7.72-7.72 1.47 1.35L5.41 20z\"/>\n",
       "  </svg>\n",
       "      </button>\n",
       "      \n",
       "  <style>\n",
       "    .colab-df-container {\n",
       "      display:flex;\n",
       "      flex-wrap:wrap;\n",
       "      gap: 12px;\n",
       "    }\n",
       "\n",
       "    .colab-df-convert {\n",
       "      background-color: #E8F0FE;\n",
       "      border: none;\n",
       "      border-radius: 50%;\n",
       "      cursor: pointer;\n",
       "      display: none;\n",
       "      fill: #1967D2;\n",
       "      height: 32px;\n",
       "      padding: 0 0 0 0;\n",
       "      width: 32px;\n",
       "    }\n",
       "\n",
       "    .colab-df-convert:hover {\n",
       "      background-color: #E2EBFA;\n",
       "      box-shadow: 0px 1px 2px rgba(60, 64, 67, 0.3), 0px 1px 3px 1px rgba(60, 64, 67, 0.15);\n",
       "      fill: #174EA6;\n",
       "    }\n",
       "\n",
       "    [theme=dark] .colab-df-convert {\n",
       "      background-color: #3B4455;\n",
       "      fill: #D2E3FC;\n",
       "    }\n",
       "\n",
       "    [theme=dark] .colab-df-convert:hover {\n",
       "      background-color: #434B5C;\n",
       "      box-shadow: 0px 1px 3px 1px rgba(0, 0, 0, 0.15);\n",
       "      filter: drop-shadow(0px 1px 2px rgba(0, 0, 0, 0.3));\n",
       "      fill: #FFFFFF;\n",
       "    }\n",
       "  </style>\n",
       "\n",
       "      <script>\n",
       "        const buttonEl =\n",
       "          document.querySelector('#df-f4ef4d17-7195-4acf-9701-901b9267145e button.colab-df-convert');\n",
       "        buttonEl.style.display =\n",
       "          google.colab.kernel.accessAllowed ? 'block' : 'none';\n",
       "\n",
       "        async function convertToInteractive(key) {\n",
       "          const element = document.querySelector('#df-f4ef4d17-7195-4acf-9701-901b9267145e');\n",
       "          const dataTable =\n",
       "            await google.colab.kernel.invokeFunction('convertToInteractive',\n",
       "                                                     [key], {});\n",
       "          if (!dataTable) return;\n",
       "\n",
       "          const docLinkHtml = 'Like what you see? Visit the ' +\n",
       "            '<a target=\"_blank\" href=https://colab.research.google.com/notebooks/data_table.ipynb>data table notebook</a>'\n",
       "            + ' to learn more about interactive tables.';\n",
       "          element.innerHTML = '';\n",
       "          dataTable['output_type'] = 'display_data';\n",
       "          await google.colab.output.renderOutput(dataTable, element);\n",
       "          const docLink = document.createElement('div');\n",
       "          docLink.innerHTML = docLinkHtml;\n",
       "          element.appendChild(docLink);\n",
       "        }\n",
       "      </script>\n",
       "    </div>\n",
       "  </div>\n",
       "  "
      ],
      "text/plain": [
       "                     Song                Artist      Genre\n",
       "0          Symphony No. 5  Ludwig van Beethoven  Classical\n",
       "1  Eine Kleine Nachtmusik                Mozart  Classical\n",
       "2              Canon in D             Pachelbel  Classical\n",
       "3        Moonlight Sonata  Ludwig van Beethoven  Classical\n",
       "4              Ode to Joy             Beethoven  Classical"
      ]
     },
     "execution_count": 3,
     "metadata": {},
     "output_type": "execute_result"
    }
   ],
   "source": [
    "songs = pd.read_\n",
    " ('/content/drive/My Drive/Colab Notebooks/DATA240/final_songs.csv')\n",
    "songs.head()"
   ]
  },
  {
   "cell_type": "code",
   "execution_count": null,
   "metadata": {
    "colab": {
     "base_uri": "https://localhost:8080/"
    },
    "executionInfo": {
     "elapsed": 182,
     "status": "ok",
     "timestamp": 1683229389540,
     "user": {
      "displayName": "Madhura Pandit",
      "userId": "01285043605966323273"
     },
     "user_tz": 420
    },
    "id": "M0SbYor-g1hu",
    "outputId": "a5ac2fd0-f190-46f3-9871-8c23c9e8bed3"
   },
   "outputs": [
    {
     "name": "stdout",
     "output_type": "stream",
     "text": [
      "Music Genre:  ['Classical' 'Country' 'EDM' 'Folk' 'Gospel' 'Hip hop' 'Jazz' 'K pop'\n",
      " 'Latin' 'Video game music' 'Rock' 'Rap' 'R&B' 'Pop' 'Lofi' 'Metal']\n",
      "Total number of music genre:  16\n"
     ]
    }
   ],
   "source": [
    "# Displaying unique values for songs genre\n",
    "print(\"Music Genre: \", songs['Genre'].unique())\n",
    "print('Total number of music genre: ',len(songs['Genre'].unique()))"
   ]
  },
  {
   "cell_type": "code",
   "execution_count": null,
   "metadata": {
    "colab": {
     "base_uri": "https://localhost:8080/",
     "height": 525
    },
    "executionInfo": {
     "elapsed": 1886,
     "status": "ok",
     "timestamp": 1683229393732,
     "user": {
      "displayName": "Madhura Pandit",
      "userId": "01285043605966323273"
     },
     "user_tz": 420
    },
    "id": "uE79kKayg1kM",
    "outputId": "4943683f-ba85-4207-ab6d-0c0b150c87ba"
   },
   "outputs": [
    {
     "data": {
      "text/html": [
       "\n",
       "  <div id=\"df-4a7feb36-3472-40f8-b67f-72cf3d39284a\">\n",
       "    <div class=\"colab-df-container\">\n",
       "      <div>\n",
       "<style scoped>\n",
       "    .dataframe tbody tr th:only-of-type {\n",
       "        vertical-align: middle;\n",
       "    }\n",
       "\n",
       "    .dataframe tbody tr th {\n",
       "        vertical-align: top;\n",
       "    }\n",
       "\n",
       "    .dataframe thead th {\n",
       "        text-align: right;\n",
       "    }\n",
       "</style>\n",
       "<table border=\"1\" class=\"dataframe\">\n",
       "  <thead>\n",
       "    <tr style=\"text-align: right;\">\n",
       "      <th></th>\n",
       "      <th>Timestamp</th>\n",
       "      <th>Age</th>\n",
       "      <th>Primary streaming service</th>\n",
       "      <th>Hours per day</th>\n",
       "      <th>While working</th>\n",
       "      <th>Instrumentalist</th>\n",
       "      <th>Composer</th>\n",
       "      <th>Fav genre</th>\n",
       "      <th>Exploratory</th>\n",
       "      <th>Foreign languages</th>\n",
       "      <th>...</th>\n",
       "      <th>Frequency [R&amp;B]</th>\n",
       "      <th>Frequency [Rap]</th>\n",
       "      <th>Frequency [Rock]</th>\n",
       "      <th>Frequency [Video game music]</th>\n",
       "      <th>Anxiety</th>\n",
       "      <th>Depression</th>\n",
       "      <th>Insomnia</th>\n",
       "      <th>OCD</th>\n",
       "      <th>Music effects</th>\n",
       "      <th>Permissions</th>\n",
       "    </tr>\n",
       "  </thead>\n",
       "  <tbody>\n",
       "    <tr>\n",
       "      <th>0</th>\n",
       "      <td>2022-08-27 19:29:00</td>\n",
       "      <td>18.0</td>\n",
       "      <td>Spotify</td>\n",
       "      <td>3.0</td>\n",
       "      <td>Yes</td>\n",
       "      <td>Yes</td>\n",
       "      <td>Yes</td>\n",
       "      <td>Latin</td>\n",
       "      <td>Yes</td>\n",
       "      <td>Yes</td>\n",
       "      <td>...</td>\n",
       "      <td>Sometimes</td>\n",
       "      <td>Very frequently</td>\n",
       "      <td>Never</td>\n",
       "      <td>Sometimes</td>\n",
       "      <td>3.0</td>\n",
       "      <td>0.0</td>\n",
       "      <td>1.0</td>\n",
       "      <td>0.0</td>\n",
       "      <td>NaN</td>\n",
       "      <td>I understand</td>\n",
       "    </tr>\n",
       "    <tr>\n",
       "      <th>1</th>\n",
       "      <td>2022-08-27 19:57:00</td>\n",
       "      <td>63.0</td>\n",
       "      <td>Pandora</td>\n",
       "      <td>1.5</td>\n",
       "      <td>Yes</td>\n",
       "      <td>No</td>\n",
       "      <td>No</td>\n",
       "      <td>Rock</td>\n",
       "      <td>Yes</td>\n",
       "      <td>No</td>\n",
       "      <td>...</td>\n",
       "      <td>Sometimes</td>\n",
       "      <td>Rarely</td>\n",
       "      <td>Very frequently</td>\n",
       "      <td>Rarely</td>\n",
       "      <td>7.0</td>\n",
       "      <td>2.0</td>\n",
       "      <td>2.0</td>\n",
       "      <td>1.0</td>\n",
       "      <td>NaN</td>\n",
       "      <td>I understand</td>\n",
       "    </tr>\n",
       "    <tr>\n",
       "      <th>2</th>\n",
       "      <td>2022-08-27 21:28:00</td>\n",
       "      <td>18.0</td>\n",
       "      <td>Spotify</td>\n",
       "      <td>4.0</td>\n",
       "      <td>No</td>\n",
       "      <td>No</td>\n",
       "      <td>No</td>\n",
       "      <td>Video game music</td>\n",
       "      <td>No</td>\n",
       "      <td>Yes</td>\n",
       "      <td>...</td>\n",
       "      <td>Never</td>\n",
       "      <td>Rarely</td>\n",
       "      <td>Rarely</td>\n",
       "      <td>Very frequently</td>\n",
       "      <td>7.0</td>\n",
       "      <td>7.0</td>\n",
       "      <td>10.0</td>\n",
       "      <td>2.0</td>\n",
       "      <td>No effect</td>\n",
       "      <td>I understand</td>\n",
       "    </tr>\n",
       "    <tr>\n",
       "      <th>3</th>\n",
       "      <td>2022-08-27 21:40:00</td>\n",
       "      <td>61.0</td>\n",
       "      <td>YouTube Music</td>\n",
       "      <td>2.5</td>\n",
       "      <td>Yes</td>\n",
       "      <td>No</td>\n",
       "      <td>Yes</td>\n",
       "      <td>Jazz</td>\n",
       "      <td>Yes</td>\n",
       "      <td>Yes</td>\n",
       "      <td>...</td>\n",
       "      <td>Sometimes</td>\n",
       "      <td>Never</td>\n",
       "      <td>Never</td>\n",
       "      <td>Never</td>\n",
       "      <td>9.0</td>\n",
       "      <td>7.0</td>\n",
       "      <td>3.0</td>\n",
       "      <td>3.0</td>\n",
       "      <td>Improve</td>\n",
       "      <td>I understand</td>\n",
       "    </tr>\n",
       "    <tr>\n",
       "      <th>4</th>\n",
       "      <td>2022-08-27 21:54:00</td>\n",
       "      <td>18.0</td>\n",
       "      <td>Spotify</td>\n",
       "      <td>4.0</td>\n",
       "      <td>Yes</td>\n",
       "      <td>No</td>\n",
       "      <td>No</td>\n",
       "      <td>R&amp;B</td>\n",
       "      <td>Yes</td>\n",
       "      <td>No</td>\n",
       "      <td>...</td>\n",
       "      <td>Very frequently</td>\n",
       "      <td>Very frequently</td>\n",
       "      <td>Never</td>\n",
       "      <td>Rarely</td>\n",
       "      <td>7.0</td>\n",
       "      <td>2.0</td>\n",
       "      <td>5.0</td>\n",
       "      <td>9.0</td>\n",
       "      <td>Improve</td>\n",
       "      <td>I understand</td>\n",
       "    </tr>\n",
       "  </tbody>\n",
       "</table>\n",
       "<p>5 rows × 33 columns</p>\n",
       "</div>\n",
       "      <button class=\"colab-df-convert\" onclick=\"convertToInteractive('df-4a7feb36-3472-40f8-b67f-72cf3d39284a')\"\n",
       "              title=\"Convert this dataframe to an interactive table.\"\n",
       "              style=\"display:none;\">\n",
       "        \n",
       "  <svg xmlns=\"http://www.w3.org/2000/svg\" height=\"24px\"viewBox=\"0 0 24 24\"\n",
       "       width=\"24px\">\n",
       "    <path d=\"M0 0h24v24H0V0z\" fill=\"none\"/>\n",
       "    <path d=\"M18.56 5.44l.94 2.06.94-2.06 2.06-.94-2.06-.94-.94-2.06-.94 2.06-2.06.94zm-11 1L8.5 8.5l.94-2.06 2.06-.94-2.06-.94L8.5 2.5l-.94 2.06-2.06.94zm10 10l.94 2.06.94-2.06 2.06-.94-2.06-.94-.94-2.06-.94 2.06-2.06.94z\"/><path d=\"M17.41 7.96l-1.37-1.37c-.4-.4-.92-.59-1.43-.59-.52 0-1.04.2-1.43.59L10.3 9.45l-7.72 7.72c-.78.78-.78 2.05 0 2.83L4 21.41c.39.39.9.59 1.41.59.51 0 1.02-.2 1.41-.59l7.78-7.78 2.81-2.81c.8-.78.8-2.07 0-2.86zM5.41 20L4 18.59l7.72-7.72 1.47 1.35L5.41 20z\"/>\n",
       "  </svg>\n",
       "      </button>\n",
       "      \n",
       "  <style>\n",
       "    .colab-df-container {\n",
       "      display:flex;\n",
       "      flex-wrap:wrap;\n",
       "      gap: 12px;\n",
       "    }\n",
       "\n",
       "    .colab-df-convert {\n",
       "      background-color: #E8F0FE;\n",
       "      border: none;\n",
       "      border-radius: 50%;\n",
       "      cursor: pointer;\n",
       "      display: none;\n",
       "      fill: #1967D2;\n",
       "      height: 32px;\n",
       "      padding: 0 0 0 0;\n",
       "      width: 32px;\n",
       "    }\n",
       "\n",
       "    .colab-df-convert:hover {\n",
       "      background-color: #E2EBFA;\n",
       "      box-shadow: 0px 1px 2px rgba(60, 64, 67, 0.3), 0px 1px 3px 1px rgba(60, 64, 67, 0.15);\n",
       "      fill: #174EA6;\n",
       "    }\n",
       "\n",
       "    [theme=dark] .colab-df-convert {\n",
       "      background-color: #3B4455;\n",
       "      fill: #D2E3FC;\n",
       "    }\n",
       "\n",
       "    [theme=dark] .colab-df-convert:hover {\n",
       "      background-color: #434B5C;\n",
       "      box-shadow: 0px 1px 3px 1px rgba(0, 0, 0, 0.15);\n",
       "      filter: drop-shadow(0px 1px 2px rgba(0, 0, 0, 0.3));\n",
       "      fill: #FFFFFF;\n",
       "    }\n",
       "  </style>\n",
       "\n",
       "      <script>\n",
       "        const buttonEl =\n",
       "          document.querySelector('#df-4a7feb36-3472-40f8-b67f-72cf3d39284a button.colab-df-convert');\n",
       "        buttonEl.style.display =\n",
       "          google.colab.kernel.accessAllowed ? 'block' : 'none';\n",
       "\n",
       "        async function convertToInteractive(key) {\n",
       "          const element = document.querySelector('#df-4a7feb36-3472-40f8-b67f-72cf3d39284a');\n",
       "          const dataTable =\n",
       "            await google.colab.kernel.invokeFunction('convertToInteractive',\n",
       "                                                     [key], {});\n",
       "          if (!dataTable) return;\n",
       "\n",
       "          const docLinkHtml = 'Like what you see? Visit the ' +\n",
       "            '<a target=\"_blank\" href=https://colab.research.google.com/notebooks/data_table.ipynb>data table notebook</a>'\n",
       "            + ' to learn more about interactive tables.';\n",
       "          element.innerHTML = '';\n",
       "          dataTable['output_type'] = 'display_data';\n",
       "          await google.colab.output.renderOutput(dataTable, element);\n",
       "          const docLink = document.createElement('div');\n",
       "          docLink.innerHTML = docLinkHtml;\n",
       "          element.appendChild(docLink);\n",
       "        }\n",
       "      </script>\n",
       "    </div>\n",
       "  </div>\n",
       "  "
      ],
      "text/plain": [
       "            Timestamp   Age Primary streaming service  Hours per day  \\\n",
       "0 2022-08-27 19:29:00  18.0                   Spotify            3.0   \n",
       "1 2022-08-27 19:57:00  63.0                   Pandora            1.5   \n",
       "2 2022-08-27 21:28:00  18.0                   Spotify            4.0   \n",
       "3 2022-08-27 21:40:00  61.0             YouTube Music            2.5   \n",
       "4 2022-08-27 21:54:00  18.0                   Spotify            4.0   \n",
       "\n",
       "  While working Instrumentalist Composer         Fav genre Exploratory  \\\n",
       "0           Yes             Yes      Yes             Latin         Yes   \n",
       "1           Yes              No       No              Rock         Yes   \n",
       "2            No              No       No  Video game music          No   \n",
       "3           Yes              No      Yes              Jazz         Yes   \n",
       "4           Yes              No       No               R&B         Yes   \n",
       "\n",
       "  Foreign languages  ...  Frequency [R&B]  Frequency [Rap] Frequency [Rock]  \\\n",
       "0               Yes  ...        Sometimes  Very frequently            Never   \n",
       "1                No  ...        Sometimes           Rarely  Very frequently   \n",
       "2               Yes  ...            Never           Rarely           Rarely   \n",
       "3               Yes  ...        Sometimes            Never            Never   \n",
       "4                No  ...  Very frequently  Very frequently            Never   \n",
       "\n",
       "  Frequency [Video game music] Anxiety Depression Insomnia  OCD Music effects  \\\n",
       "0                    Sometimes     3.0        0.0      1.0  0.0           NaN   \n",
       "1                       Rarely     7.0        2.0      2.0  1.0           NaN   \n",
       "2              Very frequently     7.0        7.0     10.0  2.0     No effect   \n",
       "3                        Never     9.0        7.0      3.0  3.0       Improve   \n",
       "4                       Rarely     7.0        2.0      5.0  9.0       Improve   \n",
       "\n",
       "    Permissions  \n",
       "0  I understand  \n",
       "1  I understand  \n",
       "2  I understand  \n",
       "3  I understand  \n",
       "4  I understand  \n",
       "\n",
       "[5 rows x 33 columns]"
      ]
     },
     "execution_count": 5,
     "metadata": {},
     "output_type": "execute_result"
    }
   ],
   "source": [
    "# Survey data\n",
    "survey = pd.read_excel('/content/drive/My Drive/Colab Notebooks/DATA240/generated_mxmh_survey.xlsx')\n",
    "survey.head()"
   ]
  },
  {
   "cell_type": "markdown",
   "metadata": {
    "id": "Bwhh9XyelTtM"
   },
   "source": [
    "### **Data Cleaning**"
   ]
  },
  {
   "cell_type": "code",
   "execution_count": null,
   "metadata": {
    "colab": {
     "base_uri": "https://localhost:8080/"
    },
    "executionInfo": {
     "elapsed": 259,
     "status": "ok",
     "timestamp": 1683229397210,
     "user": {
      "displayName": "Madhura Pandit",
      "userId": "01285043605966323273"
     },
     "user_tz": 420
    },
    "id": "WeVmr_aog1m9",
    "outputId": "3f1197cd-9b97-4bf1-e32e-7ed01085f4b8"
   },
   "outputs": [
    {
     "data": {
      "text/plain": [
       "(2736, 33)"
      ]
     },
     "execution_count": 6,
     "metadata": {},
     "output_type": "execute_result"
    }
   ],
   "source": [
    "survey.shape"
   ]
  },
  {
   "cell_type": "code",
   "execution_count": null,
   "metadata": {
    "colab": {
     "base_uri": "https://localhost:8080/"
    },
    "executionInfo": {
     "elapsed": 180,
     "status": "ok",
     "timestamp": 1683229399286,
     "user": {
      "displayName": "Madhura Pandit",
      "userId": "01285043605966323273"
     },
     "user_tz": 420
    },
    "id": "cxj3ucXWkGnk",
    "outputId": "08c0e801-eedd-4990-9e55-b1d26dae19a4"
   },
   "outputs": [
    {
     "data": {
      "text/plain": [
       "(2736, 22)"
      ]
     },
     "execution_count": 7,
     "metadata": {},
     "output_type": "execute_result"
    }
   ],
   "source": [
    "# Dropping the unnecessary columns\n",
    "survey.drop(columns=['Timestamp','Exploratory','Foreign languages','Age', 'Primary streaming service', 'Hours per day','While working','Instrumentalist','Composer', 'BPM','Permissions'], inplace=True)\n",
    "survey.shape"
   ]
  },
  {
   "cell_type": "code",
   "execution_count": null,
   "metadata": {
    "colab": {
     "base_uri": "https://localhost:8080/",
     "height": 455
    },
    "executionInfo": {
     "elapsed": 213,
     "status": "ok",
     "timestamp": 1683229401309,
     "user": {
      "displayName": "Madhura Pandit",
      "userId": "01285043605966323273"
     },
     "user_tz": 420
    },
    "id": "gCo-I1vykrFM",
    "outputId": "3c9c7f6b-5265-45f0-f7d2-8a6d92f5fc86"
   },
   "outputs": [
    {
     "data": {
      "text/html": [
       "\n",
       "  <div id=\"df-ec927c3b-cedc-44e2-9b92-a737b9d3ab61\">\n",
       "    <div class=\"colab-df-container\">\n",
       "      <div>\n",
       "<style scoped>\n",
       "    .dataframe tbody tr th:only-of-type {\n",
       "        vertical-align: middle;\n",
       "    }\n",
       "\n",
       "    .dataframe tbody tr th {\n",
       "        vertical-align: top;\n",
       "    }\n",
       "\n",
       "    .dataframe thead th {\n",
       "        text-align: right;\n",
       "    }\n",
       "</style>\n",
       "<table border=\"1\" class=\"dataframe\">\n",
       "  <thead>\n",
       "    <tr style=\"text-align: right;\">\n",
       "      <th></th>\n",
       "      <th>Fav genre</th>\n",
       "      <th>Frequency [Classical]</th>\n",
       "      <th>Frequency [Country]</th>\n",
       "      <th>Frequency [EDM]</th>\n",
       "      <th>Frequency [Folk]</th>\n",
       "      <th>Frequency [Gospel]</th>\n",
       "      <th>Frequency [Hip hop]</th>\n",
       "      <th>Frequency [Jazz]</th>\n",
       "      <th>Frequency [K pop]</th>\n",
       "      <th>Frequency [Latin]</th>\n",
       "      <th>...</th>\n",
       "      <th>Frequency [Pop]</th>\n",
       "      <th>Frequency [R&amp;B]</th>\n",
       "      <th>Frequency [Rap]</th>\n",
       "      <th>Frequency [Rock]</th>\n",
       "      <th>Frequency [Video game music]</th>\n",
       "      <th>Anxiety</th>\n",
       "      <th>Depression</th>\n",
       "      <th>Insomnia</th>\n",
       "      <th>OCD</th>\n",
       "      <th>Music effects</th>\n",
       "    </tr>\n",
       "  </thead>\n",
       "  <tbody>\n",
       "    <tr>\n",
       "      <th>0</th>\n",
       "      <td>Latin</td>\n",
       "      <td>Rarely</td>\n",
       "      <td>Never</td>\n",
       "      <td>Rarely</td>\n",
       "      <td>Never</td>\n",
       "      <td>Never</td>\n",
       "      <td>Sometimes</td>\n",
       "      <td>Never</td>\n",
       "      <td>Very frequently</td>\n",
       "      <td>Very frequently</td>\n",
       "      <td>...</td>\n",
       "      <td>Very frequently</td>\n",
       "      <td>Sometimes</td>\n",
       "      <td>Very frequently</td>\n",
       "      <td>Never</td>\n",
       "      <td>Sometimes</td>\n",
       "      <td>3.0</td>\n",
       "      <td>0.0</td>\n",
       "      <td>1.0</td>\n",
       "      <td>0.0</td>\n",
       "      <td>NaN</td>\n",
       "    </tr>\n",
       "    <tr>\n",
       "      <th>1</th>\n",
       "      <td>Rock</td>\n",
       "      <td>Sometimes</td>\n",
       "      <td>Never</td>\n",
       "      <td>Never</td>\n",
       "      <td>Rarely</td>\n",
       "      <td>Sometimes</td>\n",
       "      <td>Rarely</td>\n",
       "      <td>Very frequently</td>\n",
       "      <td>Rarely</td>\n",
       "      <td>Sometimes</td>\n",
       "      <td>...</td>\n",
       "      <td>Sometimes</td>\n",
       "      <td>Sometimes</td>\n",
       "      <td>Rarely</td>\n",
       "      <td>Very frequently</td>\n",
       "      <td>Rarely</td>\n",
       "      <td>7.0</td>\n",
       "      <td>2.0</td>\n",
       "      <td>2.0</td>\n",
       "      <td>1.0</td>\n",
       "      <td>NaN</td>\n",
       "    </tr>\n",
       "    <tr>\n",
       "      <th>2</th>\n",
       "      <td>Video game music</td>\n",
       "      <td>Never</td>\n",
       "      <td>Never</td>\n",
       "      <td>Very frequently</td>\n",
       "      <td>Never</td>\n",
       "      <td>Never</td>\n",
       "      <td>Rarely</td>\n",
       "      <td>Rarely</td>\n",
       "      <td>Very frequently</td>\n",
       "      <td>Never</td>\n",
       "      <td>...</td>\n",
       "      <td>Rarely</td>\n",
       "      <td>Never</td>\n",
       "      <td>Rarely</td>\n",
       "      <td>Rarely</td>\n",
       "      <td>Very frequently</td>\n",
       "      <td>7.0</td>\n",
       "      <td>7.0</td>\n",
       "      <td>10.0</td>\n",
       "      <td>2.0</td>\n",
       "      <td>No effect</td>\n",
       "    </tr>\n",
       "    <tr>\n",
       "      <th>3</th>\n",
       "      <td>Jazz</td>\n",
       "      <td>Sometimes</td>\n",
       "      <td>Never</td>\n",
       "      <td>Never</td>\n",
       "      <td>Rarely</td>\n",
       "      <td>Sometimes</td>\n",
       "      <td>Never</td>\n",
       "      <td>Very frequently</td>\n",
       "      <td>Sometimes</td>\n",
       "      <td>Very frequently</td>\n",
       "      <td>...</td>\n",
       "      <td>Sometimes</td>\n",
       "      <td>Sometimes</td>\n",
       "      <td>Never</td>\n",
       "      <td>Never</td>\n",
       "      <td>Never</td>\n",
       "      <td>9.0</td>\n",
       "      <td>7.0</td>\n",
       "      <td>3.0</td>\n",
       "      <td>3.0</td>\n",
       "      <td>Improve</td>\n",
       "    </tr>\n",
       "    <tr>\n",
       "      <th>4</th>\n",
       "      <td>R&amp;B</td>\n",
       "      <td>Never</td>\n",
       "      <td>Never</td>\n",
       "      <td>Rarely</td>\n",
       "      <td>Never</td>\n",
       "      <td>Rarely</td>\n",
       "      <td>Very frequently</td>\n",
       "      <td>Never</td>\n",
       "      <td>Very frequently</td>\n",
       "      <td>Sometimes</td>\n",
       "      <td>...</td>\n",
       "      <td>Sometimes</td>\n",
       "      <td>Very frequently</td>\n",
       "      <td>Very frequently</td>\n",
       "      <td>Never</td>\n",
       "      <td>Rarely</td>\n",
       "      <td>7.0</td>\n",
       "      <td>2.0</td>\n",
       "      <td>5.0</td>\n",
       "      <td>9.0</td>\n",
       "      <td>Improve</td>\n",
       "    </tr>\n",
       "  </tbody>\n",
       "</table>\n",
       "<p>5 rows × 22 columns</p>\n",
       "</div>\n",
       "      <button class=\"colab-df-convert\" onclick=\"convertToInteractive('df-ec927c3b-cedc-44e2-9b92-a737b9d3ab61')\"\n",
       "              title=\"Convert this dataframe to an interactive table.\"\n",
       "              style=\"display:none;\">\n",
       "        \n",
       "  <svg xmlns=\"http://www.w3.org/2000/svg\" height=\"24px\"viewBox=\"0 0 24 24\"\n",
       "       width=\"24px\">\n",
       "    <path d=\"M0 0h24v24H0V0z\" fill=\"none\"/>\n",
       "    <path d=\"M18.56 5.44l.94 2.06.94-2.06 2.06-.94-2.06-.94-.94-2.06-.94 2.06-2.06.94zm-11 1L8.5 8.5l.94-2.06 2.06-.94-2.06-.94L8.5 2.5l-.94 2.06-2.06.94zm10 10l.94 2.06.94-2.06 2.06-.94-2.06-.94-.94-2.06-.94 2.06-2.06.94z\"/><path d=\"M17.41 7.96l-1.37-1.37c-.4-.4-.92-.59-1.43-.59-.52 0-1.04.2-1.43.59L10.3 9.45l-7.72 7.72c-.78.78-.78 2.05 0 2.83L4 21.41c.39.39.9.59 1.41.59.51 0 1.02-.2 1.41-.59l7.78-7.78 2.81-2.81c.8-.78.8-2.07 0-2.86zM5.41 20L4 18.59l7.72-7.72 1.47 1.35L5.41 20z\"/>\n",
       "  </svg>\n",
       "      </button>\n",
       "      \n",
       "  <style>\n",
       "    .colab-df-container {\n",
       "      display:flex;\n",
       "      flex-wrap:wrap;\n",
       "      gap: 12px;\n",
       "    }\n",
       "\n",
       "    .colab-df-convert {\n",
       "      background-color: #E8F0FE;\n",
       "      border: none;\n",
       "      border-radius: 50%;\n",
       "      cursor: pointer;\n",
       "      display: none;\n",
       "      fill: #1967D2;\n",
       "      height: 32px;\n",
       "      padding: 0 0 0 0;\n",
       "      width: 32px;\n",
       "    }\n",
       "\n",
       "    .colab-df-convert:hover {\n",
       "      background-color: #E2EBFA;\n",
       "      box-shadow: 0px 1px 2px rgba(60, 64, 67, 0.3), 0px 1px 3px 1px rgba(60, 64, 67, 0.15);\n",
       "      fill: #174EA6;\n",
       "    }\n",
       "\n",
       "    [theme=dark] .colab-df-convert {\n",
       "      background-color: #3B4455;\n",
       "      fill: #D2E3FC;\n",
       "    }\n",
       "\n",
       "    [theme=dark] .colab-df-convert:hover {\n",
       "      background-color: #434B5C;\n",
       "      box-shadow: 0px 1px 3px 1px rgba(0, 0, 0, 0.15);\n",
       "      filter: drop-shadow(0px 1px 2px rgba(0, 0, 0, 0.3));\n",
       "      fill: #FFFFFF;\n",
       "    }\n",
       "  </style>\n",
       "\n",
       "      <script>\n",
       "        const buttonEl =\n",
       "          document.querySelector('#df-ec927c3b-cedc-44e2-9b92-a737b9d3ab61 button.colab-df-convert');\n",
       "        buttonEl.style.display =\n",
       "          google.colab.kernel.accessAllowed ? 'block' : 'none';\n",
       "\n",
       "        async function convertToInteractive(key) {\n",
       "          const element = document.querySelector('#df-ec927c3b-cedc-44e2-9b92-a737b9d3ab61');\n",
       "          const dataTable =\n",
       "            await google.colab.kernel.invokeFunction('convertToInteractive',\n",
       "                                                     [key], {});\n",
       "          if (!dataTable) return;\n",
       "\n",
       "          const docLinkHtml = 'Like what you see? Visit the ' +\n",
       "            '<a target=\"_blank\" href=https://colab.research.google.com/notebooks/data_table.ipynb>data table notebook</a>'\n",
       "            + ' to learn more about interactive tables.';\n",
       "          element.innerHTML = '';\n",
       "          dataTable['output_type'] = 'display_data';\n",
       "          await google.colab.output.renderOutput(dataTable, element);\n",
       "          const docLink = document.createElement('div');\n",
       "          docLink.innerHTML = docLinkHtml;\n",
       "          element.appendChild(docLink);\n",
       "        }\n",
       "      </script>\n",
       "    </div>\n",
       "  </div>\n",
       "  "
      ],
      "text/plain": [
       "          Fav genre Frequency [Classical] Frequency [Country]  \\\n",
       "0             Latin                Rarely               Never   \n",
       "1              Rock             Sometimes               Never   \n",
       "2  Video game music                 Never               Never   \n",
       "3              Jazz             Sometimes               Never   \n",
       "4               R&B                 Never               Never   \n",
       "\n",
       "   Frequency [EDM] Frequency [Folk] Frequency [Gospel] Frequency [Hip hop]  \\\n",
       "0           Rarely            Never              Never           Sometimes   \n",
       "1            Never           Rarely          Sometimes              Rarely   \n",
       "2  Very frequently            Never              Never              Rarely   \n",
       "3            Never           Rarely          Sometimes               Never   \n",
       "4           Rarely            Never             Rarely     Very frequently   \n",
       "\n",
       "  Frequency [Jazz] Frequency [K pop] Frequency [Latin]  ...  Frequency [Pop]  \\\n",
       "0            Never   Very frequently   Very frequently  ...  Very frequently   \n",
       "1  Very frequently            Rarely         Sometimes  ...        Sometimes   \n",
       "2           Rarely   Very frequently             Never  ...           Rarely   \n",
       "3  Very frequently         Sometimes   Very frequently  ...        Sometimes   \n",
       "4            Never   Very frequently         Sometimes  ...        Sometimes   \n",
       "\n",
       "   Frequency [R&B]  Frequency [Rap] Frequency [Rock]  \\\n",
       "0        Sometimes  Very frequently            Never   \n",
       "1        Sometimes           Rarely  Very frequently   \n",
       "2            Never           Rarely           Rarely   \n",
       "3        Sometimes            Never            Never   \n",
       "4  Very frequently  Very frequently            Never   \n",
       "\n",
       "  Frequency [Video game music] Anxiety Depression  Insomnia  OCD  \\\n",
       "0                    Sometimes     3.0        0.0       1.0  0.0   \n",
       "1                       Rarely     7.0        2.0       2.0  1.0   \n",
       "2              Very frequently     7.0        7.0      10.0  2.0   \n",
       "3                        Never     9.0        7.0       3.0  3.0   \n",
       "4                       Rarely     7.0        2.0       5.0  9.0   \n",
       "\n",
       "   Music effects  \n",
       "0            NaN  \n",
       "1            NaN  \n",
       "2      No effect  \n",
       "3        Improve  \n",
       "4        Improve  \n",
       "\n",
       "[5 rows x 22 columns]"
      ]
     },
     "execution_count": 8,
     "metadata": {},
     "output_type": "execute_result"
    }
   ],
   "source": [
    "survey.head()"
   ]
  },
  {
   "cell_type": "code",
   "execution_count": null,
   "metadata": {
    "colab": {
     "base_uri": "https://localhost:8080/",
     "height": 351
    },
    "executionInfo": {
     "elapsed": 167,
     "status": "ok",
     "timestamp": 1683229405676,
     "user": {
      "displayName": "Madhura Pandit",
      "userId": "01285043605966323273"
     },
     "user_tz": 420
    },
    "id": "jq1qSfsgkStP",
    "outputId": "8d08fc42-5b35-4f52-e1e7-9bf955716c79"
   },
   "outputs": [
    {
     "data": {
      "text/html": [
       "\n",
       "  <div id=\"df-b84773f0-2944-4494-bff6-a8e3bff4ff05\">\n",
       "    <div class=\"colab-df-container\">\n",
       "      <div>\n",
       "<style scoped>\n",
       "    .dataframe tbody tr th:only-of-type {\n",
       "        vertical-align: middle;\n",
       "    }\n",
       "\n",
       "    .dataframe tbody tr th {\n",
       "        vertical-align: top;\n",
       "    }\n",
       "\n",
       "    .dataframe thead th {\n",
       "        text-align: right;\n",
       "    }\n",
       "</style>\n",
       "<table border=\"1\" class=\"dataframe\">\n",
       "  <thead>\n",
       "    <tr style=\"text-align: right;\">\n",
       "      <th></th>\n",
       "      <th>Fav genre</th>\n",
       "      <th>Frequency [Classical]</th>\n",
       "      <th>Frequency [Country]</th>\n",
       "      <th>Frequency [EDM]</th>\n",
       "      <th>Frequency [Folk]</th>\n",
       "      <th>Frequency [Gospel]</th>\n",
       "      <th>Frequency [Hip hop]</th>\n",
       "      <th>Frequency [Jazz]</th>\n",
       "      <th>Frequency [K pop]</th>\n",
       "      <th>Frequency [Latin]</th>\n",
       "      <th>...</th>\n",
       "      <th>Frequency [Pop]</th>\n",
       "      <th>Frequency [R&amp;B]</th>\n",
       "      <th>Frequency [Rap]</th>\n",
       "      <th>Frequency [Rock]</th>\n",
       "      <th>Frequency [Video game music]</th>\n",
       "      <th>Anxiety</th>\n",
       "      <th>Depression</th>\n",
       "      <th>Insomnia</th>\n",
       "      <th>OCD</th>\n",
       "      <th>Music effects</th>\n",
       "    </tr>\n",
       "  </thead>\n",
       "  <tbody>\n",
       "    <tr>\n",
       "      <th>0</th>\n",
       "      <td>0</td>\n",
       "      <td>1.0</td>\n",
       "      <td>0.0</td>\n",
       "      <td>1.0</td>\n",
       "      <td>0.0</td>\n",
       "      <td>0.0</td>\n",
       "      <td>2.0</td>\n",
       "      <td>0.0</td>\n",
       "      <td>3.0</td>\n",
       "      <td>3.0</td>\n",
       "      <td>...</td>\n",
       "      <td>3.0</td>\n",
       "      <td>2.0</td>\n",
       "      <td>3.0</td>\n",
       "      <td>0.0</td>\n",
       "      <td>2.0</td>\n",
       "      <td>3.0</td>\n",
       "      <td>0.0</td>\n",
       "      <td>1.0</td>\n",
       "      <td>0.0</td>\n",
       "      <td>3</td>\n",
       "    </tr>\n",
       "    <tr>\n",
       "      <th>1</th>\n",
       "      <td>1</td>\n",
       "      <td>2.0</td>\n",
       "      <td>0.0</td>\n",
       "      <td>0.0</td>\n",
       "      <td>1.0</td>\n",
       "      <td>2.0</td>\n",
       "      <td>1.0</td>\n",
       "      <td>3.0</td>\n",
       "      <td>1.0</td>\n",
       "      <td>2.0</td>\n",
       "      <td>...</td>\n",
       "      <td>2.0</td>\n",
       "      <td>2.0</td>\n",
       "      <td>1.0</td>\n",
       "      <td>3.0</td>\n",
       "      <td>1.0</td>\n",
       "      <td>7.0</td>\n",
       "      <td>2.0</td>\n",
       "      <td>2.0</td>\n",
       "      <td>1.0</td>\n",
       "      <td>3</td>\n",
       "    </tr>\n",
       "    <tr>\n",
       "      <th>2</th>\n",
       "      <td>2</td>\n",
       "      <td>0.0</td>\n",
       "      <td>0.0</td>\n",
       "      <td>3.0</td>\n",
       "      <td>0.0</td>\n",
       "      <td>0.0</td>\n",
       "      <td>1.0</td>\n",
       "      <td>1.0</td>\n",
       "      <td>3.0</td>\n",
       "      <td>0.0</td>\n",
       "      <td>...</td>\n",
       "      <td>1.0</td>\n",
       "      <td>0.0</td>\n",
       "      <td>1.0</td>\n",
       "      <td>1.0</td>\n",
       "      <td>3.0</td>\n",
       "      <td>7.0</td>\n",
       "      <td>7.0</td>\n",
       "      <td>10.0</td>\n",
       "      <td>2.0</td>\n",
       "      <td>1</td>\n",
       "    </tr>\n",
       "    <tr>\n",
       "      <th>3</th>\n",
       "      <td>3</td>\n",
       "      <td>2.0</td>\n",
       "      <td>0.0</td>\n",
       "      <td>0.0</td>\n",
       "      <td>1.0</td>\n",
       "      <td>2.0</td>\n",
       "      <td>0.0</td>\n",
       "      <td>3.0</td>\n",
       "      <td>2.0</td>\n",
       "      <td>3.0</td>\n",
       "      <td>...</td>\n",
       "      <td>2.0</td>\n",
       "      <td>2.0</td>\n",
       "      <td>0.0</td>\n",
       "      <td>0.0</td>\n",
       "      <td>0.0</td>\n",
       "      <td>9.0</td>\n",
       "      <td>7.0</td>\n",
       "      <td>3.0</td>\n",
       "      <td>3.0</td>\n",
       "      <td>0</td>\n",
       "    </tr>\n",
       "    <tr>\n",
       "      <th>4</th>\n",
       "      <td>4</td>\n",
       "      <td>0.0</td>\n",
       "      <td>0.0</td>\n",
       "      <td>1.0</td>\n",
       "      <td>0.0</td>\n",
       "      <td>1.0</td>\n",
       "      <td>3.0</td>\n",
       "      <td>0.0</td>\n",
       "      <td>3.0</td>\n",
       "      <td>2.0</td>\n",
       "      <td>...</td>\n",
       "      <td>2.0</td>\n",
       "      <td>3.0</td>\n",
       "      <td>3.0</td>\n",
       "      <td>0.0</td>\n",
       "      <td>1.0</td>\n",
       "      <td>7.0</td>\n",
       "      <td>2.0</td>\n",
       "      <td>5.0</td>\n",
       "      <td>9.0</td>\n",
       "      <td>0</td>\n",
       "    </tr>\n",
       "  </tbody>\n",
       "</table>\n",
       "<p>5 rows × 22 columns</p>\n",
       "</div>\n",
       "      <button class=\"colab-df-convert\" onclick=\"convertToInteractive('df-b84773f0-2944-4494-bff6-a8e3bff4ff05')\"\n",
       "              title=\"Convert this dataframe to an interactive table.\"\n",
       "              style=\"display:none;\">\n",
       "        \n",
       "  <svg xmlns=\"http://www.w3.org/2000/svg\" height=\"24px\"viewBox=\"0 0 24 24\"\n",
       "       width=\"24px\">\n",
       "    <path d=\"M0 0h24v24H0V0z\" fill=\"none\"/>\n",
       "    <path d=\"M18.56 5.44l.94 2.06.94-2.06 2.06-.94-2.06-.94-.94-2.06-.94 2.06-2.06.94zm-11 1L8.5 8.5l.94-2.06 2.06-.94-2.06-.94L8.5 2.5l-.94 2.06-2.06.94zm10 10l.94 2.06.94-2.06 2.06-.94-2.06-.94-.94-2.06-.94 2.06-2.06.94z\"/><path d=\"M17.41 7.96l-1.37-1.37c-.4-.4-.92-.59-1.43-.59-.52 0-1.04.2-1.43.59L10.3 9.45l-7.72 7.72c-.78.78-.78 2.05 0 2.83L4 21.41c.39.39.9.59 1.41.59.51 0 1.02-.2 1.41-.59l7.78-7.78 2.81-2.81c.8-.78.8-2.07 0-2.86zM5.41 20L4 18.59l7.72-7.72 1.47 1.35L5.41 20z\"/>\n",
       "  </svg>\n",
       "      </button>\n",
       "      \n",
       "  <style>\n",
       "    .colab-df-container {\n",
       "      display:flex;\n",
       "      flex-wrap:wrap;\n",
       "      gap: 12px;\n",
       "    }\n",
       "\n",
       "    .colab-df-convert {\n",
       "      background-color: #E8F0FE;\n",
       "      border: none;\n",
       "      border-radius: 50%;\n",
       "      cursor: pointer;\n",
       "      display: none;\n",
       "      fill: #1967D2;\n",
       "      height: 32px;\n",
       "      padding: 0 0 0 0;\n",
       "      width: 32px;\n",
       "    }\n",
       "\n",
       "    .colab-df-convert:hover {\n",
       "      background-color: #E2EBFA;\n",
       "      box-shadow: 0px 1px 2px rgba(60, 64, 67, 0.3), 0px 1px 3px 1px rgba(60, 64, 67, 0.15);\n",
       "      fill: #174EA6;\n",
       "    }\n",
       "\n",
       "    [theme=dark] .colab-df-convert {\n",
       "      background-color: #3B4455;\n",
       "      fill: #D2E3FC;\n",
       "    }\n",
       "\n",
       "    [theme=dark] .colab-df-convert:hover {\n",
       "      background-color: #434B5C;\n",
       "      box-shadow: 0px 1px 3px 1px rgba(0, 0, 0, 0.15);\n",
       "      filter: drop-shadow(0px 1px 2px rgba(0, 0, 0, 0.3));\n",
       "      fill: #FFFFFF;\n",
       "    }\n",
       "  </style>\n",
       "\n",
       "      <script>\n",
       "        const buttonEl =\n",
       "          document.querySelector('#df-b84773f0-2944-4494-bff6-a8e3bff4ff05 button.colab-df-convert');\n",
       "        buttonEl.style.display =\n",
       "          google.colab.kernel.accessAllowed ? 'block' : 'none';\n",
       "\n",
       "        async function convertToInteractive(key) {\n",
       "          const element = document.querySelector('#df-b84773f0-2944-4494-bff6-a8e3bff4ff05');\n",
       "          const dataTable =\n",
       "            await google.colab.kernel.invokeFunction('convertToInteractive',\n",
       "                                                     [key], {});\n",
       "          if (!dataTable) return;\n",
       "\n",
       "          const docLinkHtml = 'Like what you see? Visit the ' +\n",
       "            '<a target=\"_blank\" href=https://colab.research.google.com/notebooks/data_table.ipynb>data table notebook</a>'\n",
       "            + ' to learn more about interactive tables.';\n",
       "          element.innerHTML = '';\n",
       "          dataTable['output_type'] = 'display_data';\n",
       "          await google.colab.output.renderOutput(dataTable, element);\n",
       "          const docLink = document.createElement('div');\n",
       "          docLink.innerHTML = docLinkHtml;\n",
       "          element.appendChild(docLink);\n",
       "        }\n",
       "      </script>\n",
       "    </div>\n",
       "  </div>\n",
       "  "
      ],
      "text/plain": [
       "   Fav genre  Frequency [Classical]  Frequency [Country]  Frequency [EDM]  \\\n",
       "0          0                    1.0                  0.0              1.0   \n",
       "1          1                    2.0                  0.0              0.0   \n",
       "2          2                    0.0                  0.0              3.0   \n",
       "3          3                    2.0                  0.0              0.0   \n",
       "4          4                    0.0                  0.0              1.0   \n",
       "\n",
       "   Frequency [Folk]  Frequency [Gospel]  Frequency [Hip hop]  \\\n",
       "0               0.0                 0.0                  2.0   \n",
       "1               1.0                 2.0                  1.0   \n",
       "2               0.0                 0.0                  1.0   \n",
       "3               1.0                 2.0                  0.0   \n",
       "4               0.0                 1.0                  3.0   \n",
       "\n",
       "   Frequency [Jazz]  Frequency [K pop]  Frequency [Latin]  ...  \\\n",
       "0               0.0                3.0                3.0  ...   \n",
       "1               3.0                1.0                2.0  ...   \n",
       "2               1.0                3.0                0.0  ...   \n",
       "3               3.0                2.0                3.0  ...   \n",
       "4               0.0                3.0                2.0  ...   \n",
       "\n",
       "   Frequency [Pop]  Frequency [R&B]  Frequency [Rap]  Frequency [Rock]  \\\n",
       "0              3.0              2.0              3.0               0.0   \n",
       "1              2.0              2.0              1.0               3.0   \n",
       "2              1.0              0.0              1.0               1.0   \n",
       "3              2.0              2.0              0.0               0.0   \n",
       "4              2.0              3.0              3.0               0.0   \n",
       "\n",
       "   Frequency [Video game music]  Anxiety  Depression  Insomnia  OCD  \\\n",
       "0                           2.0      3.0         0.0       1.0  0.0   \n",
       "1                           1.0      7.0         2.0       2.0  1.0   \n",
       "2                           3.0      7.0         7.0      10.0  2.0   \n",
       "3                           0.0      9.0         7.0       3.0  3.0   \n",
       "4                           1.0      7.0         2.0       5.0  9.0   \n",
       "\n",
       "   Music effects  \n",
       "0              3  \n",
       "1              3  \n",
       "2              1  \n",
       "3              0  \n",
       "4              0  \n",
       "\n",
       "[5 rows x 22 columns]"
      ]
     },
     "execution_count": 9,
     "metadata": {},
     "output_type": "execute_result"
    }
   ],
   "source": [
    "# Encoding column values to convert categorical values to Numeric\n",
    "\n",
    "# Create an instance of OrdinalEncoder and define the order of the categories\n",
    "ordinal_encoder = OrdinalEncoder(categories=[[\"Never\", \"Rarely\", \"Sometimes\", \"Very frequently\"]] * 16)\n",
    "\n",
    "#Encode the categorical columns using OrdinalEncoder\n",
    "survey[['Frequency [Pop]', 'Frequency [R&B]', 'Frequency [Rap]', 'Frequency [Rock]','Frequency [Classical]', 'Frequency [Country]',\n",
    "              'Frequency [EDM]', 'Frequency [Folk]','Frequency [Jazz]', 'Frequency [Gospel]', 'Frequency [Hip hop]',\n",
    "              'Frequency [K pop]', 'Frequency [Lofi]', 'Frequency [Latin]', 'Frequency [Metal]', \n",
    "              'Frequency [Video game music]']] = ordinal_encoder.fit_transform(survey[\n",
    "                  ['Frequency [Pop]', 'Frequency [R&B]', 'Frequency [Rap]', 'Frequency [Rock]','Frequency [Classical]', 'Frequency [Country]',\n",
    "              'Frequency [EDM]', 'Frequency [Folk]','Frequency [Jazz]', 'Frequency [Gospel]', 'Frequency [Hip hop]',\n",
    "              'Frequency [K pop]', 'Frequency [Lofi]', 'Frequency [Latin]', 'Frequency [Metal]', \n",
    "              'Frequency [Video game music]']])\n",
    "\n",
    "#Encoding label values\n",
    "label_encoder = LabelEncoder()\n",
    "survey['Music effects'] = label_encoder.fit_transform(survey['Music effects'].replace({'worse': '0', 'no effect': '1', 'improve': '2'}))\n",
    "#survey['While working'] = survey['While working'].replace({'Yes': 1, 'No': 0})\n",
    "#survey['Instrumentalist'] = survey['Instrumentalist'].replace({'Yes': 1, 'No': 0})\n",
    "#survey['Composer'] = survey['Composer'].replace({'Yes': 1, 'No': 0})\n",
    "\n",
    "# create a dictionary mapping each unique genre to a number\n",
    "genre_to_num = {genre: i for i, genre in enumerate(survey['Fav genre'].unique())}\n",
    "\n",
    "# replace the genre names with their corresponding numbers\n",
    "survey['Fav genre'] = survey['Fav genre'].replace(genre_to_num)\n",
    "\n",
    "survey.head()"
   ]
  },
  {
   "cell_type": "code",
   "execution_count": null,
   "metadata": {
    "colab": {
     "base_uri": "https://localhost:8080/"
    },
    "executionInfo": {
     "elapsed": 264,
     "status": "ok",
     "timestamp": 1683229409999,
     "user": {
      "displayName": "Madhura Pandit",
      "userId": "01285043605966323273"
     },
     "user_tz": 420
    },
    "id": "9v67jJKXm3q-",
    "outputId": "668ba340-e453-4be7-e58d-32cd2d411d1c"
   },
   "outputs": [
    {
     "data": {
      "text/plain": [
       "(2736, 22)"
      ]
     },
     "execution_count": 10,
     "metadata": {},
     "output_type": "execute_result"
    }
   ],
   "source": [
    "survey.shape"
   ]
  },
  {
   "cell_type": "markdown",
   "metadata": {
    "id": "uQqtwZxXmCC7"
   },
   "source": [
    "### **Data Transformation and Integration**"
   ]
  },
  {
   "cell_type": "code",
   "execution_count": null,
   "metadata": {
    "id": "vrUln-EOt0ij"
   },
   "outputs": [],
   "source": [
    "# Create a dictionary to map genre names to their corresponding integer values\n",
    "genre_map = {'Video game music': 0, 'Jazz': 1, 'R&B': 2, 'K pop': 3, 'Rock': 4, 'Country': 5, 'EDM': 6, 'Pop': 7, 'Hip hop': 8, 'Rap': 9, 'Classical': 10, 'Metal': 11, 'Folk': 12, 'Lofi': 13, 'Gospel': 14, 'Latin': 15}\n",
    "\n",
    "# Apply the mapping dictionary to the \"Genre\" column in the \"songs\" dataset\n",
    "songs['Genre'] = songs['Genre'].map(genre_map)"
   ]
  },
  {
   "cell_type": "code",
   "execution_count": null,
   "metadata": {
    "colab": {
     "base_uri": "https://localhost:8080/",
     "height": 206
    },
    "executionInfo": {
     "elapsed": 609,
     "status": "ok",
     "timestamp": 1683229415860,
     "user": {
      "displayName": "Madhura Pandit",
      "userId": "01285043605966323273"
     },
     "user_tz": 420
    },
    "id": "G5bCWxW19-yQ",
    "outputId": "ad40f81c-f1de-4369-d91c-8297b9a5950b"
   },
   "outputs": [
    {
     "data": {
      "text/html": [
       "\n",
       "  <div id=\"df-3ba8c7c7-05f9-447c-b9ec-99fe76ccfc4a\">\n",
       "    <div class=\"colab-df-container\">\n",
       "      <div>\n",
       "<style scoped>\n",
       "    .dataframe tbody tr th:only-of-type {\n",
       "        vertical-align: middle;\n",
       "    }\n",
       "\n",
       "    .dataframe tbody tr th {\n",
       "        vertical-align: top;\n",
       "    }\n",
       "\n",
       "    .dataframe thead th {\n",
       "        text-align: right;\n",
       "    }\n",
       "</style>\n",
       "<table border=\"1\" class=\"dataframe\">\n",
       "  <thead>\n",
       "    <tr style=\"text-align: right;\">\n",
       "      <th></th>\n",
       "      <th>Song</th>\n",
       "      <th>Artist</th>\n",
       "      <th>Genre</th>\n",
       "    </tr>\n",
       "  </thead>\n",
       "  <tbody>\n",
       "    <tr>\n",
       "      <th>0</th>\n",
       "      <td>Symphony No. 5</td>\n",
       "      <td>Ludwig van Beethoven</td>\n",
       "      <td>10</td>\n",
       "    </tr>\n",
       "    <tr>\n",
       "      <th>1</th>\n",
       "      <td>Eine Kleine Nachtmusik</td>\n",
       "      <td>Mozart</td>\n",
       "      <td>10</td>\n",
       "    </tr>\n",
       "    <tr>\n",
       "      <th>2</th>\n",
       "      <td>Canon in D</td>\n",
       "      <td>Pachelbel</td>\n",
       "      <td>10</td>\n",
       "    </tr>\n",
       "    <tr>\n",
       "      <th>3</th>\n",
       "      <td>Moonlight Sonata</td>\n",
       "      <td>Ludwig van Beethoven</td>\n",
       "      <td>10</td>\n",
       "    </tr>\n",
       "    <tr>\n",
       "      <th>4</th>\n",
       "      <td>Ode to Joy</td>\n",
       "      <td>Beethoven</td>\n",
       "      <td>10</td>\n",
       "    </tr>\n",
       "  </tbody>\n",
       "</table>\n",
       "</div>\n",
       "      <button class=\"colab-df-convert\" onclick=\"convertToInteractive('df-3ba8c7c7-05f9-447c-b9ec-99fe76ccfc4a')\"\n",
       "              title=\"Convert this dataframe to an interactive table.\"\n",
       "              style=\"display:none;\">\n",
       "        \n",
       "  <svg xmlns=\"http://www.w3.org/2000/svg\" height=\"24px\"viewBox=\"0 0 24 24\"\n",
       "       width=\"24px\">\n",
       "    <path d=\"M0 0h24v24H0V0z\" fill=\"none\"/>\n",
       "    <path d=\"M18.56 5.44l.94 2.06.94-2.06 2.06-.94-2.06-.94-.94-2.06-.94 2.06-2.06.94zm-11 1L8.5 8.5l.94-2.06 2.06-.94-2.06-.94L8.5 2.5l-.94 2.06-2.06.94zm10 10l.94 2.06.94-2.06 2.06-.94-2.06-.94-.94-2.06-.94 2.06-2.06.94z\"/><path d=\"M17.41 7.96l-1.37-1.37c-.4-.4-.92-.59-1.43-.59-.52 0-1.04.2-1.43.59L10.3 9.45l-7.72 7.72c-.78.78-.78 2.05 0 2.83L4 21.41c.39.39.9.59 1.41.59.51 0 1.02-.2 1.41-.59l7.78-7.78 2.81-2.81c.8-.78.8-2.07 0-2.86zM5.41 20L4 18.59l7.72-7.72 1.47 1.35L5.41 20z\"/>\n",
       "  </svg>\n",
       "      </button>\n",
       "      \n",
       "  <style>\n",
       "    .colab-df-container {\n",
       "      display:flex;\n",
       "      flex-wrap:wrap;\n",
       "      gap: 12px;\n",
       "    }\n",
       "\n",
       "    .colab-df-convert {\n",
       "      background-color: #E8F0FE;\n",
       "      border: none;\n",
       "      border-radius: 50%;\n",
       "      cursor: pointer;\n",
       "      display: none;\n",
       "      fill: #1967D2;\n",
       "      height: 32px;\n",
       "      padding: 0 0 0 0;\n",
       "      width: 32px;\n",
       "    }\n",
       "\n",
       "    .colab-df-convert:hover {\n",
       "      background-color: #E2EBFA;\n",
       "      box-shadow: 0px 1px 2px rgba(60, 64, 67, 0.3), 0px 1px 3px 1px rgba(60, 64, 67, 0.15);\n",
       "      fill: #174EA6;\n",
       "    }\n",
       "\n",
       "    [theme=dark] .colab-df-convert {\n",
       "      background-color: #3B4455;\n",
       "      fill: #D2E3FC;\n",
       "    }\n",
       "\n",
       "    [theme=dark] .colab-df-convert:hover {\n",
       "      background-color: #434B5C;\n",
       "      box-shadow: 0px 1px 3px 1px rgba(0, 0, 0, 0.15);\n",
       "      filter: drop-shadow(0px 1px 2px rgba(0, 0, 0, 0.3));\n",
       "      fill: #FFFFFF;\n",
       "    }\n",
       "  </style>\n",
       "\n",
       "      <script>\n",
       "        const buttonEl =\n",
       "          document.querySelector('#df-3ba8c7c7-05f9-447c-b9ec-99fe76ccfc4a button.colab-df-convert');\n",
       "        buttonEl.style.display =\n",
       "          google.colab.kernel.accessAllowed ? 'block' : 'none';\n",
       "\n",
       "        async function convertToInteractive(key) {\n",
       "          const element = document.querySelector('#df-3ba8c7c7-05f9-447c-b9ec-99fe76ccfc4a');\n",
       "          const dataTable =\n",
       "            await google.colab.kernel.invokeFunction('convertToInteractive',\n",
       "                                                     [key], {});\n",
       "          if (!dataTable) return;\n",
       "\n",
       "          const docLinkHtml = 'Like what you see? Visit the ' +\n",
       "            '<a target=\"_blank\" href=https://colab.research.google.com/notebooks/data_table.ipynb>data table notebook</a>'\n",
       "            + ' to learn more about interactive tables.';\n",
       "          element.innerHTML = '';\n",
       "          dataTable['output_type'] = 'display_data';\n",
       "          await google.colab.output.renderOutput(dataTable, element);\n",
       "          const docLink = document.createElement('div');\n",
       "          docLink.innerHTML = docLinkHtml;\n",
       "          element.appendChild(docLink);\n",
       "        }\n",
       "      </script>\n",
       "    </div>\n",
       "  </div>\n",
       "  "
      ],
      "text/plain": [
       "                     Song                Artist  Genre\n",
       "0          Symphony No. 5  Ludwig van Beethoven     10\n",
       "1  Eine Kleine Nachtmusik                Mozart     10\n",
       "2              Canon in D             Pachelbel     10\n",
       "3        Moonlight Sonata  Ludwig van Beethoven     10\n",
       "4              Ode to Joy             Beethoven     10"
      ]
     },
     "execution_count": 12,
     "metadata": {},
     "output_type": "execute_result"
    }
   ],
   "source": [
    "songs.head()"
   ]
  },
  {
   "cell_type": "code",
   "execution_count": null,
   "metadata": {
    "colab": {
     "base_uri": "https://localhost:8080/"
    },
    "executionInfo": {
     "elapsed": 321,
     "status": "ok",
     "timestamp": 1683229418853,
     "user": {
      "displayName": "Madhura Pandit",
      "userId": "01285043605966323273"
     },
     "user_tz": 420
    },
    "id": "scdJc8IK-Qgq",
    "outputId": "3feecccb-719f-457e-c88e-5595b2688f51"
   },
   "outputs": [
    {
     "data": {
      "text/plain": [
       "(2736, 22)"
      ]
     },
     "execution_count": 13,
     "metadata": {},
     "output_type": "execute_result"
    }
   ],
   "source": [
    "# handling missing values\n",
    "df = survey.dropna()\n",
    "df.shape"
   ]
  },
  {
   "cell_type": "markdown",
   "metadata": {
    "id": "HGLQzU31-oyY"
   },
   "source": [
    "##### Integrating two datasets of survey and songs based on Favorite Genre and adding corresponding songs as song1 song2 song3 columns."
   ]
  },
  {
   "cell_type": "code",
   "execution_count": null,
   "metadata": {
    "colab": {
     "base_uri": "https://localhost:8080/",
     "height": 768
    },
    "executionInfo": {
     "elapsed": 6999,
     "status": "ok",
     "timestamp": 1683229434472,
     "user": {
      "displayName": "Madhura Pandit",
      "userId": "01285043605966323273"
     },
     "user_tz": 420
    },
    "id": "dKevTIZT-H9X",
    "outputId": "16b2a792-50cb-4c50-8227-70213dc5e453"
   },
   "outputs": [
    {
     "data": {
      "text/html": [
       "\n",
       "  <div id=\"df-0b6d3612-833b-4e69-9a5d-b70c9a861a80\">\n",
       "    <div class=\"colab-df-container\">\n",
       "      <div>\n",
       "<style scoped>\n",
       "    .dataframe tbody tr th:only-of-type {\n",
       "        vertical-align: middle;\n",
       "    }\n",
       "\n",
       "    .dataframe tbody tr th {\n",
       "        vertical-align: top;\n",
       "    }\n",
       "\n",
       "    .dataframe thead th {\n",
       "        text-align: right;\n",
       "    }\n",
       "</style>\n",
       "<table border=\"1\" class=\"dataframe\">\n",
       "  <thead>\n",
       "    <tr style=\"text-align: right;\">\n",
       "      <th></th>\n",
       "      <th>Fav genre</th>\n",
       "      <th>Frequency [Classical]</th>\n",
       "      <th>Frequency [Country]</th>\n",
       "      <th>Frequency [EDM]</th>\n",
       "      <th>Frequency [Folk]</th>\n",
       "      <th>Frequency [Gospel]</th>\n",
       "      <th>Frequency [Hip hop]</th>\n",
       "      <th>Frequency [Jazz]</th>\n",
       "      <th>Frequency [K pop]</th>\n",
       "      <th>Frequency [Latin]</th>\n",
       "      <th>...</th>\n",
       "      <th>Frequency [Rock]</th>\n",
       "      <th>Frequency [Video game music]</th>\n",
       "      <th>Anxiety</th>\n",
       "      <th>Depression</th>\n",
       "      <th>Insomnia</th>\n",
       "      <th>OCD</th>\n",
       "      <th>Music effects</th>\n",
       "      <th>song1</th>\n",
       "      <th>song2</th>\n",
       "      <th>song3</th>\n",
       "    </tr>\n",
       "  </thead>\n",
       "  <tbody>\n",
       "    <tr>\n",
       "      <th>0</th>\n",
       "      <td>0</td>\n",
       "      <td>1.0</td>\n",
       "      <td>0.0</td>\n",
       "      <td>1.0</td>\n",
       "      <td>0.0</td>\n",
       "      <td>0.0</td>\n",
       "      <td>2.0</td>\n",
       "      <td>0.0</td>\n",
       "      <td>3.0</td>\n",
       "      <td>3.0</td>\n",
       "      <td>...</td>\n",
       "      <td>0.0</td>\n",
       "      <td>2.0</td>\n",
       "      <td>3.0</td>\n",
       "      <td>0.0</td>\n",
       "      <td>1.0</td>\n",
       "      <td>0.0</td>\n",
       "      <td>3</td>\n",
       "      <td>Aquatic Ambience by Artist: David Wise</td>\n",
       "      <td>Super Mario Bros. Theme by Artist: Koji Kondo</td>\n",
       "      <td>Dragonborn by Artist: Jeremy Soule</td>\n",
       "    </tr>\n",
       "    <tr>\n",
       "      <th>1</th>\n",
       "      <td>1</td>\n",
       "      <td>2.0</td>\n",
       "      <td>0.0</td>\n",
       "      <td>0.0</td>\n",
       "      <td>1.0</td>\n",
       "      <td>2.0</td>\n",
       "      <td>1.0</td>\n",
       "      <td>3.0</td>\n",
       "      <td>1.0</td>\n",
       "      <td>2.0</td>\n",
       "      <td>...</td>\n",
       "      <td>3.0</td>\n",
       "      <td>1.0</td>\n",
       "      <td>7.0</td>\n",
       "      <td>2.0</td>\n",
       "      <td>2.0</td>\n",
       "      <td>1.0</td>\n",
       "      <td>3</td>\n",
       "      <td>St. James Infirmary Blues by Artist: Louis Arm...</td>\n",
       "      <td>Maputo by Artist: David Sanborn</td>\n",
       "      <td>Just The Two Of Us by Artist: Grover Washingto...</td>\n",
       "    </tr>\n",
       "    <tr>\n",
       "      <th>2</th>\n",
       "      <td>2</td>\n",
       "      <td>0.0</td>\n",
       "      <td>0.0</td>\n",
       "      <td>3.0</td>\n",
       "      <td>0.0</td>\n",
       "      <td>0.0</td>\n",
       "      <td>1.0</td>\n",
       "      <td>1.0</td>\n",
       "      <td>3.0</td>\n",
       "      <td>0.0</td>\n",
       "      <td>...</td>\n",
       "      <td>1.0</td>\n",
       "      <td>3.0</td>\n",
       "      <td>7.0</td>\n",
       "      <td>7.0</td>\n",
       "      <td>10.0</td>\n",
       "      <td>2.0</td>\n",
       "      <td>1</td>\n",
       "      <td>Climax by Artist: Usher</td>\n",
       "      <td>Always Be My Baby by Artist:  Mariah Carey</td>\n",
       "      <td>Blinding Lights by Artist: The Weeknd</td>\n",
       "    </tr>\n",
       "    <tr>\n",
       "      <th>3</th>\n",
       "      <td>3</td>\n",
       "      <td>2.0</td>\n",
       "      <td>0.0</td>\n",
       "      <td>0.0</td>\n",
       "      <td>1.0</td>\n",
       "      <td>2.0</td>\n",
       "      <td>0.0</td>\n",
       "      <td>3.0</td>\n",
       "      <td>2.0</td>\n",
       "      <td>3.0</td>\n",
       "      <td>...</td>\n",
       "      <td>0.0</td>\n",
       "      <td>0.0</td>\n",
       "      <td>9.0</td>\n",
       "      <td>7.0</td>\n",
       "      <td>3.0</td>\n",
       "      <td>3.0</td>\n",
       "      <td>0</td>\n",
       "      <td>Idol by Artist: BTS</td>\n",
       "      <td>Gangnam Style by Artist: PSY</td>\n",
       "      <td>Ice Cream by Artist: BLACKPINK ft. Selena Gomez</td>\n",
       "    </tr>\n",
       "    <tr>\n",
       "      <th>4</th>\n",
       "      <td>4</td>\n",
       "      <td>0.0</td>\n",
       "      <td>0.0</td>\n",
       "      <td>1.0</td>\n",
       "      <td>0.0</td>\n",
       "      <td>1.0</td>\n",
       "      <td>3.0</td>\n",
       "      <td>0.0</td>\n",
       "      <td>3.0</td>\n",
       "      <td>2.0</td>\n",
       "      <td>...</td>\n",
       "      <td>0.0</td>\n",
       "      <td>1.0</td>\n",
       "      <td>7.0</td>\n",
       "      <td>2.0</td>\n",
       "      <td>5.0</td>\n",
       "      <td>9.0</td>\n",
       "      <td>0</td>\n",
       "      <td>Enter Sandman by Artist: Metallica</td>\n",
       "      <td>Boys Don't Cry by Artist: The Cure</td>\n",
       "      <td>Carry On Wayward Son by Artist: Kansas</td>\n",
       "    </tr>\n",
       "  </tbody>\n",
       "</table>\n",
       "<p>5 rows × 25 columns</p>\n",
       "</div>\n",
       "      <button class=\"colab-df-convert\" onclick=\"convertToInteractive('df-0b6d3612-833b-4e69-9a5d-b70c9a861a80')\"\n",
       "              title=\"Convert this dataframe to an interactive table.\"\n",
       "              style=\"display:none;\">\n",
       "        \n",
       "  <svg xmlns=\"http://www.w3.org/2000/svg\" height=\"24px\"viewBox=\"0 0 24 24\"\n",
       "       width=\"24px\">\n",
       "    <path d=\"M0 0h24v24H0V0z\" fill=\"none\"/>\n",
       "    <path d=\"M18.56 5.44l.94 2.06.94-2.06 2.06-.94-2.06-.94-.94-2.06-.94 2.06-2.06.94zm-11 1L8.5 8.5l.94-2.06 2.06-.94-2.06-.94L8.5 2.5l-.94 2.06-2.06.94zm10 10l.94 2.06.94-2.06 2.06-.94-2.06-.94-.94-2.06-.94 2.06-2.06.94z\"/><path d=\"M17.41 7.96l-1.37-1.37c-.4-.4-.92-.59-1.43-.59-.52 0-1.04.2-1.43.59L10.3 9.45l-7.72 7.72c-.78.78-.78 2.05 0 2.83L4 21.41c.39.39.9.59 1.41.59.51 0 1.02-.2 1.41-.59l7.78-7.78 2.81-2.81c.8-.78.8-2.07 0-2.86zM5.41 20L4 18.59l7.72-7.72 1.47 1.35L5.41 20z\"/>\n",
       "  </svg>\n",
       "      </button>\n",
       "      \n",
       "  <style>\n",
       "    .colab-df-container {\n",
       "      display:flex;\n",
       "      flex-wrap:wrap;\n",
       "      gap: 12px;\n",
       "    }\n",
       "\n",
       "    .colab-df-convert {\n",
       "      background-color: #E8F0FE;\n",
       "      border: none;\n",
       "      border-radius: 50%;\n",
       "      cursor: pointer;\n",
       "      display: none;\n",
       "      fill: #1967D2;\n",
       "      height: 32px;\n",
       "      padding: 0 0 0 0;\n",
       "      width: 32px;\n",
       "    }\n",
       "\n",
       "    .colab-df-convert:hover {\n",
       "      background-color: #E2EBFA;\n",
       "      box-shadow: 0px 1px 2px rgba(60, 64, 67, 0.3), 0px 1px 3px 1px rgba(60, 64, 67, 0.15);\n",
       "      fill: #174EA6;\n",
       "    }\n",
       "\n",
       "    [theme=dark] .colab-df-convert {\n",
       "      background-color: #3B4455;\n",
       "      fill: #D2E3FC;\n",
       "    }\n",
       "\n",
       "    [theme=dark] .colab-df-convert:hover {\n",
       "      background-color: #434B5C;\n",
       "      box-shadow: 0px 1px 3px 1px rgba(0, 0, 0, 0.15);\n",
       "      filter: drop-shadow(0px 1px 2px rgba(0, 0, 0, 0.3));\n",
       "      fill: #FFFFFF;\n",
       "    }\n",
       "  </style>\n",
       "\n",
       "      <script>\n",
       "        const buttonEl =\n",
       "          document.querySelector('#df-0b6d3612-833b-4e69-9a5d-b70c9a861a80 button.colab-df-convert');\n",
       "        buttonEl.style.display =\n",
       "          google.colab.kernel.accessAllowed ? 'block' : 'none';\n",
       "\n",
       "        async function convertToInteractive(key) {\n",
       "          const element = document.querySelector('#df-0b6d3612-833b-4e69-9a5d-b70c9a861a80');\n",
       "          const dataTable =\n",
       "            await google.colab.kernel.invokeFunction('convertToInteractive',\n",
       "                                                     [key], {});\n",
       "          if (!dataTable) return;\n",
       "\n",
       "          const docLinkHtml = 'Like what you see? Visit the ' +\n",
       "            '<a target=\"_blank\" href=https://colab.research.google.com/notebooks/data_table.ipynb>data table notebook</a>'\n",
       "            + ' to learn more about interactive tables.';\n",
       "          element.innerHTML = '';\n",
       "          dataTable['output_type'] = 'display_data';\n",
       "          await google.colab.output.renderOutput(dataTable, element);\n",
       "          const docLink = document.createElement('div');\n",
       "          docLink.innerHTML = docLinkHtml;\n",
       "          element.appendChild(docLink);\n",
       "        }\n",
       "      </script>\n",
       "    </div>\n",
       "  </div>\n",
       "  "
      ],
      "text/plain": [
       "   Fav genre  Frequency [Classical]  Frequency [Country]  Frequency [EDM]  \\\n",
       "0          0                    1.0                  0.0              1.0   \n",
       "1          1                    2.0                  0.0              0.0   \n",
       "2          2                    0.0                  0.0              3.0   \n",
       "3          3                    2.0                  0.0              0.0   \n",
       "4          4                    0.0                  0.0              1.0   \n",
       "\n",
       "   Frequency [Folk]  Frequency [Gospel]  Frequency [Hip hop]  \\\n",
       "0               0.0                 0.0                  2.0   \n",
       "1               1.0                 2.0                  1.0   \n",
       "2               0.0                 0.0                  1.0   \n",
       "3               1.0                 2.0                  0.0   \n",
       "4               0.0                 1.0                  3.0   \n",
       "\n",
       "   Frequency [Jazz]  Frequency [K pop]  Frequency [Latin]  ...  \\\n",
       "0               0.0                3.0                3.0  ...   \n",
       "1               3.0                1.0                2.0  ...   \n",
       "2               1.0                3.0                0.0  ...   \n",
       "3               3.0                2.0                3.0  ...   \n",
       "4               0.0                3.0                2.0  ...   \n",
       "\n",
       "   Frequency [Rock]  Frequency [Video game music]  Anxiety  Depression  \\\n",
       "0               0.0                           2.0      3.0         0.0   \n",
       "1               3.0                           1.0      7.0         2.0   \n",
       "2               1.0                           3.0      7.0         7.0   \n",
       "3               0.0                           0.0      9.0         7.0   \n",
       "4               0.0                           1.0      7.0         2.0   \n",
       "\n",
       "   Insomnia  OCD  Music effects  \\\n",
       "0       1.0  0.0              3   \n",
       "1       2.0  1.0              3   \n",
       "2      10.0  2.0              1   \n",
       "3       3.0  3.0              0   \n",
       "4       5.0  9.0              0   \n",
       "\n",
       "                                               song1  \\\n",
       "0             Aquatic Ambience by Artist: David Wise   \n",
       "1  St. James Infirmary Blues by Artist: Louis Arm...   \n",
       "2                            Climax by Artist: Usher   \n",
       "3                                Idol by Artist: BTS   \n",
       "4                 Enter Sandman by Artist: Metallica   \n",
       "\n",
       "                                           song2  \\\n",
       "0  Super Mario Bros. Theme by Artist: Koji Kondo   \n",
       "1                Maputo by Artist: David Sanborn   \n",
       "2     Always Be My Baby by Artist:  Mariah Carey   \n",
       "3                   Gangnam Style by Artist: PSY   \n",
       "4             Boys Don't Cry by Artist: The Cure   \n",
       "\n",
       "                                               song3  \n",
       "0                 Dragonborn by Artist: Jeremy Soule  \n",
       "1  Just The Two Of Us by Artist: Grover Washingto...  \n",
       "2              Blinding Lights by Artist: The Weeknd  \n",
       "3    Ice Cream by Artist: BLACKPINK ft. Selena Gomez  \n",
       "4             Carry On Wayward Son by Artist: Kansas  \n",
       "\n",
       "[5 rows x 25 columns]"
      ]
     },
     "execution_count": 14,
     "metadata": {},
     "output_type": "execute_result"
    }
   ],
   "source": [
    "# Integrating with songs data by adding songs and artists by Music genre\n",
    "\n",
    "# Create a dictionary to map each genre to its respective songs\n",
    "genre_to_songs = songs.groupby('Genre')['Song'].apply(list).to_dict()\n",
    "\n",
    "# Define a function to randomly choose a song and artist for a given genre\n",
    "def choose_song(genre, chosen_songs):\n",
    "    available_songs = list(set(genre_to_songs[genre]) - set(chosen_songs))\n",
    "    if len(available_songs) > 0:\n",
    "        chosen_song = np.random.choice(available_songs)\n",
    "        chosen_artist = songs[songs['Song'] == chosen_song]['Artist'].values[0]\n",
    "        return chosen_song + ' by Artist: ' + chosen_artist\n",
    "    else:\n",
    "        return None\n",
    "\n",
    "# Create three new columns in the survey dataframe for the chosen songs\n",
    "df['song1'] = df['Fav genre'].apply(lambda x: choose_song(x, []))\n",
    "df['song2'] = df.apply(lambda row: choose_song(row['Fav genre'], [row['song1']]), axis=1)\n",
    "df['song3'] = df.apply(lambda row: choose_song(row['Fav genre'], [row['song1'], row['song2']]), axis=1)\n",
    "df.head()"
   ]
  },
  {
   "cell_type": "code",
   "execution_count": null,
   "metadata": {
    "colab": {
     "base_uri": "https://localhost:8080/"
    },
    "executionInfo": {
     "elapsed": 268,
     "status": "ok",
     "timestamp": 1683229449040,
     "user": {
      "displayName": "Madhura Pandit",
      "userId": "01285043605966323273"
     },
     "user_tz": 420
    },
    "id": "kf4JZ9Io-IKZ",
    "outputId": "853928ea-f30e-4ce9-cf5c-998e8e0d134f"
   },
   "outputs": [
    {
     "data": {
      "text/plain": [
       "(2736, 25)"
      ]
     },
     "execution_count": 15,
     "metadata": {},
     "output_type": "execute_result"
    }
   ],
   "source": [
    "df.shape"
   ]
  },
  {
   "cell_type": "markdown",
   "metadata": {
    "id": "yw3aj_Yv_X_I"
   },
   "source": [
    "## **Decision Tree Model**"
   ]
  },
  {
   "cell_type": "markdown",
   "metadata": {
    "id": "w7MIlGYN_hul"
   },
   "source": [
    "Part1: Building a model & Checking the prediction for test data "
   ]
  },
  {
   "cell_type": "code",
   "execution_count": null,
   "metadata": {
    "colab": {
     "base_uri": "https://localhost:8080/"
    },
    "executionInfo": {
     "elapsed": 6,
     "status": "ok",
     "timestamp": 1683229493708,
     "user": {
      "displayName": "Madhura Pandit",
      "userId": "01285043605966323273"
     },
     "user_tz": 420
    },
    "id": "0WB5MGyavDal",
    "outputId": "dd007f7f-f6de-43a2-a242-e6120fc038e2"
   },
   "outputs": [
    {
     "name": "stdout",
     "output_type": "stream",
     "text": [
      "\n",
      "Recommended Genre of Music for you: Rock\n",
      "Recommended Songs for you:\n",
      " Runnin' with the Devil by Artist: Van Halen\n",
      "         The Chain by Artist: Fleetwood Mac\n",
      "     Hotel California by Artist: The Eagles\n"
     ]
    }
   ],
   "source": [
    "import warnings\n",
    "warnings.filterwarnings('ignore', category=UserWarning)\n",
    "\n",
    "# Define X and y\n",
    "X = df[['Frequency [Classical]', 'Frequency [Country]', 'Frequency [EDM]', 'Frequency [Folk]', 'Frequency [Gospel]', 'Frequency [Hip hop]', 'Frequency [Jazz]', 'Frequency [K pop]', \n",
    "        'Frequency [Latin]', 'Frequency [Lofi]', 'Frequency [Metal]', 'Frequency [Pop]', 'Frequency [R&B]', 'Frequency [Rap]', \n",
    "         'Frequency [Rock]', 'Frequency [Video game music]', 'Anxiety', 'Depression', 'Insomnia', 'OCD']] \n",
    "y = df['Fav genre']\n",
    "\n",
    "# Create a decision tree classifier\n",
    "model1 = DecisionTreeClassifier()\n",
    "\n",
    "# Fit the model to the training data\n",
    "model1.fit(X, y)\n",
    "\n",
    "# Define the test data\n",
    "#X_test = [[2.0, 0.0, 0.0, 1.0, 2.0, 0.0, 3.0, 2.0, 3.0, 2.0, 0.0, 2.0, 2.0, 0.0, 0.0, 0.0, 9.0, 7.0, 3.0, 3.0]]\n",
    "test_data = [X.iloc[4].tolist()]\n",
    "\n",
    "# Make the prediction\n",
    "prediction = model1.predict(test_data)\n",
    "\n",
    "# Make the prediction\n",
    "#prediction = model.predict(X)[0]  # Extract the predicted label from the array\n",
    "\n",
    "predicted_label = prediction[0] # predicted fav genre\n",
    "\n",
    "# row_index = df1[df1['Fav genre'] == predicted_label].index[0]\n",
    "row_index = df.loc[(df['Fav genre'] == predicted_label) & (df['Music effects'] == 2)].index[0]\n",
    "recommended_songs = df.loc[row_index, ['song1', 'song2', 'song3']]\n",
    "\n",
    "# Map the integer predicted_label to its corresponding categorical string value\n",
    "predicted_genre = list(genre_map.keys())[list(genre_map.values()).index(predicted_label)]\n",
    "\n",
    "# Convert the recommended songs to a string without the index label\n",
    "recommended_songs_str = recommended_songs.to_string(index=False)\n",
    "\n",
    "# Print the results\n",
    "print('\\nRecommended Genre of Music for you:', predicted_genre)\n",
    "print('Recommended Songs for you:\\n', recommended_songs_str)\n"
   ]
  },
  {
   "cell_type": "markdown",
   "metadata": {
    "id": "P716jT89A7R-"
   },
   "source": [
    "Part2: Building a model with train-test split"
   ]
  },
  {
   "cell_type": "code",
   "execution_count": null,
   "metadata": {
    "colab": {
     "base_uri": "https://localhost:8080/"
    },
    "executionInfo": {
     "elapsed": 166,
     "status": "ok",
     "timestamp": 1683229507555,
     "user": {
      "displayName": "Madhura Pandit",
      "userId": "01285043605966323273"
     },
     "user_tz": 420
    },
    "id": "pVUXTEAGkS0F",
    "outputId": "faf5e5f0-ab71-452b-db75-6edf0e1ead28"
   },
   "outputs": [
    {
     "name": "stdout",
     "output_type": "stream",
     "text": [
      "Accuracy: 0.15693430656934307\n"
     ]
    }
   ],
   "source": [
    "# Split data into training and testing sets\n",
    "X_train, X_test, y_train, y_test = train_test_split(X, y, test_size=0.2)\n",
    "\n",
    "# Create a decision tree classifier\n",
    "model2 = DecisionTreeClassifier()\n",
    "\n",
    "# Fit the model to the training data\n",
    "model2.fit(X_train, y_train)\n",
    "\n",
    "# Use the trained model to make predictions on the test data\n",
    "y_pred = model2.predict(X_test)\n",
    "\n",
    "# Evaluate the accuracy of the model\n",
    "accuracy = accuracy_score(y_test, y_pred)\n",
    "print(\"Accuracy:\", accuracy)   "
   ]
  },
  {
   "cell_type": "code",
   "execution_count": null,
   "metadata": {
    "colab": {
     "base_uri": "https://localhost:8080/"
    },
    "executionInfo": {
     "elapsed": 154,
     "status": "ok",
     "timestamp": 1683229521161,
     "user": {
      "displayName": "Madhura Pandit",
      "userId": "01285043605966323273"
     },
     "user_tz": 420
    },
    "id": "EbYmamztDbcL",
    "outputId": "1c29c8cf-aef3-4dfe-a9e7-f2e09818f485"
   },
   "outputs": [
    {
     "name": "stdout",
     "output_type": "stream",
     "text": [
      "F1 score: 0.11512291016300176\n",
      "Recall: 0.1314432034544454\n"
     ]
    }
   ],
   "source": [
    "# Calculating F1 score and recall\n",
    "from sklearn.metrics import f1_score, recall_score\n",
    "\n",
    "f1 = f1_score(y_test, y_pred, average='macro')\n",
    "recall = recall_score(y_test, y_pred, average='macro')\n",
    "\n",
    "print(\"F1 score:\", f1)\n",
    "print(\"Recall:\", recall)"
   ]
  },
  {
   "cell_type": "code",
   "execution_count": null,
   "metadata": {
    "colab": {
     "base_uri": "https://localhost:8080/"
    },
    "executionInfo": {
     "elapsed": 421,
     "status": "ok",
     "timestamp": 1683229759303,
     "user": {
      "displayName": "Madhura Pandit",
      "userId": "01285043605966323273"
     },
     "user_tz": 420
    },
    "id": "6c5JH9ZdT128",
    "outputId": "ba6f2065-fc07-4c33-c325-65dd2f5e7563"
   },
   "outputs": [
    {
     "name": "stdout",
     "output_type": "stream",
     "text": [
      "Recall scores for each label: [0.5        0.21428571 0.15384615 0.         0.15789474 0.10526316\n",
      " 0.10526316 0.07894737 0.05405405 0.2        0.05555556 0.21568627\n",
      " 0.26229508 0.         0.         0.        ]\n"
     ]
    }
   ],
   "source": [
    "# calculating recall for each class label\n",
    "recall_scores = recall_score(y_test, y_pred, average=None)\n",
    "\n",
    "print(\"Recall scores for each label:\", recall_scores)"
   ]
  },
  {
   "cell_type": "code",
   "execution_count": null,
   "metadata": {
    "colab": {
     "base_uri": "https://localhost:8080/",
     "height": 472
    },
    "executionInfo": {
     "elapsed": 1979,
     "status": "ok",
     "timestamp": 1683229973134,
     "user": {
      "displayName": "Madhura Pandit",
      "userId": "01285043605966323273"
     },
     "user_tz": 420
    },
    "id": "CkfAdwuvTNn-",
    "outputId": "5cd1639b-a838-44cf-8f45-454e55dc43e6"
   },
   "outputs": [
    {
     "data": {
      "image/png": "[encoded data removed]",
      "text/plain": [
       "<Figure size 640x480 with 1 Axes>"
      ]
     },
     "metadata": {},
     "output_type": "display_data"
    }
   ],
   "source": [
    "from sklearn.metrics import roc_curve, roc_auc_score\n",
    "from sklearn.preprocessing import label_binarize\n",
    "\n",
    "# Convert labels to one-hot encoding\n",
    "y_one_hot = label_binarize(y_test, classes=np.unique(y))\n",
    "\n",
    "# Compute probabilities for each class\n",
    "y_prob = model2.predict_proba(X_test)\n",
    "\n",
    "# Compute micro-averaged ROC curve and ROC AUC score\n",
    "fpr, tpr, _ = roc_curve(y_one_hot.ravel(), y_prob.ravel())\n",
    "roc_auc = roc_auc_score(y_one_hot, y_prob, average='micro')\n",
    "\n",
    "# Plot the ROC curve\n",
    "plt.figure()\n",
    "lw = 2\n",
    "plt.plot(fpr, tpr, color='darkorange',\n",
    "         lw=lw, label='ROC curve (area = %0.2f)' % roc_auc)\n",
    "plt.plot([0, 1], [0, 1], color='navy', lw=lw, linestyle='--')\n",
    "plt.xlim([0.0, 1.0])\n",
    "plt.ylim([0.0, 1.05])\n",
    "plt.xlabel('False Positive Rate')\n",
    "plt.ylabel('True Positive Rate')\n",
    "plt.title('Receiver Operating Characteristic ROC Curve')\n",
    "plt.legend(loc=\"lower right\")\n",
    "plt.show()\n"
   ]
  },
  {
   "cell_type": "code",
   "execution_count": null,
   "metadata": {
    "colab": {
     "base_uri": "https://localhost:8080/",
     "height": 1000
    },
    "executionInfo": {
     "elapsed": 5903,
     "status": "ok",
     "timestamp": 1683191988246,
     "user": {
      "displayName": "Madhura Pandit",
      "userId": "01285043605966323273"
     },
     "user_tz": 420
    },
    "id": "G3ibHFOLDjmG",
    "outputId": "300e751a-7f64-45b0-ab81-032932b80aa4"
   },
   "outputs": [
    {
     "data": {
      "text/plain": [
       "<seaborn.axisgrid.PairGrid at 0x7f3194b1bb80>"
      ]
     },
     "execution_count": 90,
     "metadata": {},
     "output_type": "execute_result"
    },
    {
     "data": {
      "image/png": "[encoded data removed]",
      "text/plain": [
       "<Figure size 1000x1000 with 20 Axes>"
      ]
     },
     "metadata": {},
     "output_type": "display_data"
    }
   ],
   "source": [
    "# Visualization of data(X) before PCA, using pair plots to explore the relationships between different features\n",
    "\n",
    "sns.pairplot(X.iloc[:, :4], diag_kind='kde')"
   ]
  },
  {
   "cell_type": "markdown",
   "metadata": {
    "id": "eGudzeqYBNXP"
   },
   "source": [
    "Part3: Building a model on reduced data using PCA technique for Dimensionality Reduction. "
   ]
  },
  {
   "cell_type": "markdown",
   "metadata": {
    "id": "1GiOX3DhEA8X"
   },
   "source": [
    "**PCA (Principal Component Analysis) for Dimensionality Reduction**"
   ]
  },
  {
   "cell_type": "code",
   "execution_count": null,
   "metadata": {
    "colab": {
     "base_uri": "https://localhost:8080/"
    },
    "executionInfo": {
     "elapsed": 541,
     "status": "ok",
     "timestamp": 1683192259626,
     "user": {
      "displayName": "Madhura Pandit",
      "userId": "01285043605966323273"
     },
     "user_tz": 420
    },
    "id": "j0Qqh0HhBd8t",
    "outputId": "7f3ae5bc-d713-4ce3-b2c1-3b6d3818ca85"
   },
   "outputs": [
    {
     "name": "stdout",
     "output_type": "stream",
     "text": [
      "\n",
      "Recommended Genre of Music for you: K pop\n",
      "Recommended Songs for you:\n",
      " Boy With Luv by Artist BTS ft. Halsey\n",
      "                     ON by Artist BTS\n",
      "      Zimzalabim by Artist Red Velvet\n"
     ]
    }
   ],
   "source": [
    "# PCA with above code\n",
    "\n",
    "# Define the input features and target variable\n",
    "X = df[['Frequency [Classical]', 'Frequency [Country]', 'Frequency [EDM]', 'Frequency [Folk]', 'Frequency [Gospel]', \n",
    "        'Frequency [Hip hop]', 'Frequency [Jazz]', 'Frequency [K pop]', 'Frequency [Latin]', 'Frequency [Lofi]', \n",
    "        'Frequency [Metal]', 'Frequency [Pop]', 'Frequency [R&B]', 'Frequency [Rap]', 'Frequency [Rock]', \n",
    "        'Frequency [Video game music]', 'Anxiety', 'Depression', 'Insomnia', 'OCD']]\n",
    "y = df['Fav genre']\n",
    "\n",
    "# Reduce the dimensionality of the input features using PCA\n",
    "pca = PCA(n_components=2)\n",
    "X_pca = pca.fit_transform(X)\n",
    "\n",
    "# Train the model\n",
    "model3 = DecisionTreeClassifier()\n",
    "model3.fit(X_pca, y)\n",
    "\n",
    "# Define the test data\n",
    "test_data = [X_pca[5]]\n",
    "\n",
    "# Make the prediction\n",
    "prediction = model3.predict(test_data)\n",
    "predicted_label = prediction[0]  # Extract the predicted label from the array\n",
    "\n",
    "# Get the row index in the original dataframe for the predicted label and music effects\n",
    "row_index = df.loc[(df['Fav genre'] == predicted_label) & (df['Music effects'] == 2)].index[0]\n",
    "\n",
    "# Get the recommended songs based on the predicted genre and music effects\n",
    "recommended_songs = df.loc[row_index, ['song1', 'song2', 'song3']]\n",
    "\n",
    "# Map the integer predicted_label to its corresponding categorical string value\n",
    "predicted_genre = list(genre_map.keys())[list(genre_map.values()).index(predicted_label)]\n",
    "\n",
    "# Convert the recommended songs to a string without the index label\n",
    "recommended_songs_str = recommended_songs.to_string(index=False)\n",
    "\n",
    "# Print the results\n",
    "print('\\nRecommended Genre of Music for you:', predicted_genre)\n",
    "print('Recommended Songs for you:\\n', recommended_songs_str)"
   ]
  },
  {
   "cell_type": "code",
   "execution_count": null,
   "metadata": {
    "colab": {
     "base_uri": "https://localhost:8080/",
     "height": 564
    },
    "executionInfo": {
     "elapsed": 910,
     "status": "ok",
     "timestamp": 1683192583774,
     "user": {
      "displayName": "Madhura Pandit",
      "userId": "01285043605966323273"
     },
     "user_tz": 420
    },
    "id": "uyIL7zwtE-7S",
    "outputId": "19e8cc9a-3585-4c19-b79b-87fb2d9dd6b3"
   },
   "outputs": [
    {
     "data": {
      "image/png": "[encoded data removed]",
      "text/plain": [
       "<Figure size 800x600 with 1 Axes>"
      ]
     },
     "metadata": {},
     "output_type": "display_data"
    }
   ],
   "source": [
    "# visualizing data(X) after PCA, using scatter plot to plot the first two principal components against each other. \n",
    "# Using PCA, original data of 20 features/dimensions are projected onto two components i.e. dimensions are reduced to 2. \n",
    "\n",
    "# Plotting the first two principal components\n",
    "plt.figure(figsize=(8,6))\n",
    "plt.scatter(X_pca[:, 0], X_pca[:, 1], color = 'teal')\n",
    "plt.xlabel('PC1')\n",
    "plt.ylabel('PC2')\n",
    "plt.title('Data after PCA')\n",
    "plt.show()\n"
   ]
  },
  {
   "cell_type": "markdown",
   "metadata": {
    "id": "GHtgOfyrBCrr"
   },
   "source": [
    "Part4: Building a model & Checking the prediction on user input Survey Data"
   ]
  },
  {
   "cell_type": "code",
   "execution_count": null,
   "metadata": {
    "colab": {
     "base_uri": "https://localhost:8080/"
    },
    "executionInfo": {
     "elapsed": 41598,
     "status": "ok",
     "timestamp": 1683192820951,
     "user": {
      "displayName": "Madhura Pandit",
      "userId": "01285043605966323273"
     },
     "user_tz": 420
    },
    "id": "reo1GXdvBgQd",
    "outputId": "a67d81c5-a535-4e09-c36f-0720bc26f7bf"
   },
   "outputs": [
    {
     "name": "stdout",
     "output_type": "stream",
     "text": [
      "\u001b[1mMusic & Mental Health Survey\u001b[0m\n",
      "Please fill following questionnaire based on the scale provided below:\n",
      "Music genre frequency scale - 0: Never, 1: Rarely, 2: Sometimes, 3: Very Frequently\n",
      "Mental Health experience scale - 0: I do not experience this, 10: I experience this regularly, constantly/or to an extreme\n",
      "\n",
      "\n",
      "Please rate on a scale of 0-3, how much do you listen to the music of genre 'Classical'? 0\n",
      "Please rate on a scale of 0-3, how much do you listen to the music of genre 'Country'? 1\n",
      "Please rate on a scale of 0-3, how much do you listen to the music of genre 'EDM'? 6\n",
      "Invalid input. Please enter a value between 0 and 3.\n",
      "Please rate on a scale of 0-3, how much do you listen to the music of genre 'EDM'? 3\n",
      "Please rate on a scale of 0-3, how much do you listen to the music of genre 'Folk'? 3\n",
      "Please rate on a scale of 0-3, how much do you listen to the music of genre 'Gospel'? 2\n",
      "Please rate on a scale of 0-3, how much do you listen to the music of genre 'Hip hop'? 2\n",
      "Please rate on a scale of 0-3, how much do you listen to the music of genre 'Jazz'? 3\n",
      "Please rate on a scale of 0-3, how much do you listen to the music of genre 'K pop'? 3\n",
      "Please rate on a scale of 0-3, how much do you listen to the music of genre 'Latin'? 2\n",
      "Please rate on a scale of 0-3, how much do you listen to the music of genre 'Lofi'? 2\n",
      "Please rate on a scale of 0-3, how much do you listen to the music of genre 'Metal'? 1\n",
      "Please rate on a scale of 0-3, how much do you listen to the music of genre 'Pop'? 2\n",
      "Please rate on a scale of 0-3, how much do you listen to the music of genre 'R&B'? 1\n",
      "Please rate on a scale of 0-3, how much do you listen to the music of genre 'Rap'? 1\n",
      "Please rate on a scale of 0-3, how much do you listen to the music of genre 'Rock'? 3\n",
      "Please rate on a scale of 0-3, how much do you listen to the music of genre 'Video game music'? 2\n",
      "Please rate your feelings for Anxiety on a scale of 0-10 : 7\n",
      "Please rate your feelings for Depression on a scale of 0-10 : 8\n",
      "Please rate your feelings for Insomnia on a scale of 0-10 : 5\n",
      "Please rate your feelings for OCD on a scale of 0-10 : 2\n",
      "\n",
      "Recommended Genre of Music for you: Jazz\n",
      "Recommended Songs for you:\n",
      " The Pink Panther Theme by Artist Henry Mancini\n",
      "             Birdland by Artist Weather Report\n",
      "            Chameleon by Artist Herbie Hancock\n",
      "\n",
      "Hope these songs make you feel better :) \n"
     ]
    }
   ],
   "source": [
    "# with user input as survey\n",
    "\n",
    "# Define the features\n",
    "features = ['Frequency [Classical]', 'Frequency [Country]', 'Frequency [EDM]', 'Frequency [Folk]', 'Frequency [Gospel]', \n",
    "            'Frequency [Hip hop]', 'Frequency [Jazz]', 'Frequency [K pop]', 'Frequency [Latin]', 'Frequency [Lofi]', \n",
    "            'Frequency [Metal]', 'Frequency [Pop]', 'Frequency [R&B]', 'Frequency [Rap]', 'Frequency [Rock]', \n",
    "            'Frequency [Video game music]', 'Anxiety', 'Depression', 'Insomnia', 'OCD']\n",
    "\n",
    "# Initialize an empty list to store the user inputs\n",
    "user_inputs = []\n",
    "\n",
    "# Ask for user inputs for the features\n",
    "print(\"\\033[1mMusic & Mental Health Survey\\033[0m\")\n",
    "print(\"Please fill following questionnaire based on the scale provided below:\")\n",
    "print(\"Music genre frequency scale - 0: Never, 1: Rarely, 2: Sometimes, 3: Very Frequently\")\n",
    "print(\"Mental Health experience scale - 0: I do not experience this, 10: I experience this regularly, constantly/or to an extreme\")\n",
    "print('\\n')\n",
    "\n",
    "for feature in features:\n",
    "    if feature.startswith('Frequency'):\n",
    "        while True:\n",
    "            user_input = input(f\"Please rate on a scale of 0-3, how much do you listen to the music of genre '{feature.split('[', 1)[1][:-1]}'? \")\n",
    "            if user_input.isdigit() and int(user_input) in [0, 1, 2, 3]:\n",
    "                break\n",
    "            print(\"Invalid input. Please enter a value between 0 and 3.\")\n",
    "    else:\n",
    "        while True:\n",
    "            user_input = input(f\"Please rate your feelings for {feature} on a scale of 0-10 : \")\n",
    "            if user_input.isdigit() and int(user_input) in range(0, 11):\n",
    "                break\n",
    "            print(\"Invalid input. Please enter a value between 0 and 10.\")\n",
    "    user_inputs.append(float(user_input))\n",
    "\n",
    "# Convert the user inputs to a dataframe\n",
    "user_df = pd.DataFrame([user_inputs], columns=features)\n",
    "\n",
    "# Create a decision tree classifier\n",
    "model4 = DecisionTreeClassifier()\n",
    "\n",
    "# Fit the model to the training data\n",
    "model4.fit(X, y)\n",
    "\n",
    "# Make the prediction\n",
    "prediction = model4.predict(user_df)\n",
    "\n",
    "# Get the predicted genre\n",
    "predicted_label = prediction[0]\n",
    "\n",
    "# Find the recommended songs\n",
    "row_index = df.loc[(df['Fav genre'] == predicted_label) & (df['Music effects'] == 2)].index[0]\n",
    "recommended_songs = df.loc[row_index, ['song1', 'song2', 'song3']]\n",
    "\n",
    "# Convert the recommended songs to a string without the index label\n",
    "recommended_songs_str = recommended_songs.to_string(index=False)\n",
    "\n",
    "# Map the integer predicted_label to its corresponding categorical string value\n",
    "predicted_genre = list(genre_map.keys())[list(genre_map.values()).index(predicted_label)]\n",
    "\n",
    "\n",
    "# Print the results\n",
    "print('\\nRecommended Genre of Music for you:', predicted_genre)\n",
    "print('Recommended Songs for you:\\n', recommended_songs_str)\n",
    "print(\"\\nHope these songs make you feel better :) \")"
   ]
  },
  {
   "cell_type": "code",
   "execution_count": null,
   "metadata": {
    "id": "_BNRUoGrVV2k"
   },
   "outputs": [],
   "source": []
  },
  {
   "cell_type": "markdown",
   "metadata": {
    "id": "ZANOvFoKVW4y"
   },
   "source": [
    "## **Extreme Gradient Boosting XGBoost**"
   ]
  },
  {
   "cell_type": "code",
   "execution_count": null,
   "metadata": {
    "colab": {
     "base_uri": "https://localhost:8080/"
    },
    "executionInfo": {
     "elapsed": 5404,
     "status": "ok",
     "timestamp": 1683231218268,
     "user": {
      "displayName": "Madhura Pandit",
      "userId": "01285043605966323273"
     },
     "user_tz": 420
    },
    "id": "QtRptQXOVWBi",
    "outputId": "91926086-3f35-4449-d035-166c01ca9a75"
   },
   "outputs": [
    {
     "name": "stdout",
     "output_type": "stream",
     "text": [
      "Accuracy: 0.21350364963503649\n",
      "F1 Score: 0.11512291016300176\n",
      "Recall: 0.1314432034544454\n"
     ]
    }
   ],
   "source": [
    "import xgboost as xgb\n",
    "from sklearn.metrics import accuracy_score\n",
    "from sklearn.metrics import accuracy_score, f1_score, recall_score, roc_auc_score\n",
    "\n",
    "# Define X and y\n",
    "X = df[['Frequency [Classical]', 'Frequency [Country]', 'Frequency [EDM]', 'Frequency [Folk]', 'Frequency [Gospel]', 'Frequency [Hip hop]', 'Frequency [Jazz]', 'Frequency [K pop]', \n",
    "        'Frequency [Latin]', 'Frequency [Lofi]', 'Frequency [Metal]', 'Frequency [Pop]', 'Frequency [R&B]', 'Frequency [Rap]', \n",
    "         'Frequency [Rock]', 'Frequency [Video game music]', 'Anxiety', 'Depression', 'Insomnia', 'OCD']].values\n",
    "y = df['Fav genre'].values\n",
    "\n",
    "# Define the number of classes in the dataset\n",
    "num_classes = len(set(y))\n",
    "\n",
    "# Create an XGBoost model\n",
    "model = xgb.XGBClassifier(objective='multi:softmax', num_class=num_classes)\n",
    "\n",
    "# Split the data into training and testing sets\n",
    "X_train, X_test, y_train, y_test = train_test_split(X, y, test_size=0.2)\n",
    "\n",
    "# Train the model\n",
    "model.fit(X_train, y_train)\n",
    "\n",
    "# Use the trained model to make predictions on the test data\n",
    "y_pred = model.predict(X_test)\n",
    "\n",
    "# Calculating F1 score and recall\n",
    "f1 = f1_score(y_test, y_pred, average='macro')\n",
    "recall = recall_score(y_test, y_pred, average='macro')\n",
    "\n",
    "# Evaluate the accuracy of the model\n",
    "accuracy = accuracy_score(y_test, y_pred)\n",
    "\n",
    "print(\"Accuracy:\", accuracy)\n",
    "print(\"F1 Score:\", f1)\n",
    "print(\"Recall:\", recall)"
   ]
  },
  {
   "cell_type": "code",
   "execution_count": null,
   "metadata": {
    "colab": {
     "base_uri": "https://localhost:8080/"
    },
    "executionInfo": {
     "elapsed": 10922,
     "status": "ok",
     "timestamp": 1683231195579,
     "user": {
      "displayName": "Madhura Pandit",
      "userId": "01285043605966323273"
     },
     "user_tz": 420
    },
    "id": "U_luz7vdWD8n",
    "outputId": "9ba7d604-03d4-4341-bd3e-1dad03b760b1"
   },
   "outputs": [
    {
     "name": "stdout",
     "output_type": "stream",
     "text": [
      "Accuracy: 0.20584652862362973\n",
      "F1 Score: 0.11512291016300176\n",
      "Recall: 0.1314432034544454\n"
     ]
    }
   ],
   "source": [
    "import xgboost as xgb\n",
    "from sklearn.metrics import accuracy_score\n",
    "from sklearn.metrics import accuracy_score, f1_score, recall_score, roc_auc_score\n",
    "\n",
    "# Define X and y\n",
    "X = df[['Frequency [Classical]', 'Frequency [Country]', 'Frequency [EDM]', 'Frequency [Folk]', 'Frequency [Gospel]', 'Frequency [Hip hop]', 'Frequency [Jazz]', 'Frequency [K pop]', \n",
    "        'Frequency [Latin]', 'Frequency [Lofi]', 'Frequency [Metal]', 'Frequency [Pop]', 'Frequency [R&B]', 'Frequency [Rap]', \n",
    "         'Frequency [Rock]', 'Frequency [Video game music]', 'Anxiety', 'Depression', 'Insomnia', 'OCD']].values\n",
    "y = df['Fav genre'].values\n",
    "\n",
    "# Define the number of classes in the dataset\n",
    "num_classes = len(set(y))\n",
    "\n",
    "# Create an XGBoost model\n",
    "model = xgb.XGBClassifier(objective='multi:softmax', num_class=num_classes)\n",
    "\n",
    "# Split the data into training and testing sets\n",
    "X_train, X_test, y_train, y_test = train_test_split(X, y, test_size=0.3)\n",
    "\n",
    "# Train the model\n",
    "model.fit(X_train, y_train)\n",
    "\n",
    "# Use the trained model to make predictions on the test data\n",
    "y_pred = model.predict(X_test)\n",
    "\n",
    "# Calculating F1 score and recall\n",
    "f1 = f1_score(y_test, y_pred, average='macro')\n",
    "recall = recall_score(y_test, y_pred, average='macro')\n",
    "\n",
    "# Evaluate the accuracy of the model\n",
    "accuracy = accuracy_score(y_test, y_pred)\n",
    "\n",
    "print(\"Accuracy:\", accuracy)\n",
    "print(\"F1 Score:\", f1)\n",
    "print(\"Recall:\", recall)"
   ]
  },
  {
   "cell_type": "code",
   "execution_count": null,
   "metadata": {
    "id": "p-mBnQcmZyU6"
   },
   "outputs": [],
   "source": [
    "import xgboost as xgb\n",
    "from sklearn.model_selection import GridSearchCV\n",
    "\n",
    "# Create the XGBoost classifier object\n",
    "xgb_classifier = xgb.XGBClassifier()\n",
    "\n",
    "# Define the hyperparameters to be tuned\n",
    "params = {\n",
    "    'learning_rate': [0.1, 0.05, 0.01],\n",
    "    'max_depth': [3, 5, 7],\n",
    "    'min_child_weight': [1, 3, 5],\n",
    "    'gamma': [0, 0.1, 0.2],\n",
    "    'subsample': [0.6, 0.8, 1.0],\n",
    "    'colsample_bytree': [0.6, 0.8, 1.0],\n",
    "    'n_estimators': [100, 500, 1000]\n",
    "}\n",
    "\n",
    "# Perform grid search cross-validation\n",
    "cv = 5\n",
    "grid_search = GridSearchCV(estimator=xgb_classifier, param_grid=params, cv=cv, scoring='accuracy', n_jobs=-1)\n",
    "grid_result = grid_search.fit(X_train, y_train)\n",
    "\n",
    "# Print the best hyperparameters and the corresponding score\n",
    "print(\"Best score: %f using %s\" % (grid_result.best_score_, grid_result.best_params_))"
   ]
  }
 ],
 "metadata": {
  "colab": {
   "provenance": []
  },
  "kernelspec": {
   "display_name": "Python 3 (ipykernel)",
   "language": "python",
   "name": "python3"
  },
  "language_info": {
   "codemirror_mode": {
    "name": "ipython",
    "version": 3
   },
   "file_extension": ".py",
   "mimetype": "text/x-python",
   "name": "python",
   "nbconvert_exporter": "python",
   "pygments_lexer": "ipython3",
   "version": "3.10.2"
  }
 },
 "nbformat": 4,
 "nbformat_minor": 1
}
